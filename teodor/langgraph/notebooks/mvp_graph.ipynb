{
 "cells": [
  {
   "cell_type": "markdown",
   "metadata": {},
   "source": [
    "# Setting the Baseline\n",
    "Initiating the baseline functions, classes and models.\n",
    "\n",
    "Importing the necessary keys"
   ]
  },
  {
   "cell_type": "code",
   "execution_count": 315,
   "metadata": {},
   "outputs": [],
   "source": [
    "# Creating the environment for the notebook and importing the necessary keys\n",
    "\n",
    "from dotenv import load_dotenv\n",
    "import os\n",
    "load_dotenv()\n",
    "\n",
    "OPENAI_API_KEY = os.getenv('OPENAI_API_KEY')\n",
    "ASTRA_DB_API_KEY = os.getenv('ASTRA_DB_API_KEY')\n",
    "ASTRA_DB_ENDPOINT = os.getenv('ASTRA_DB_ENDPOINT')\n",
    "ASTRA_DB_KEYSPACE = os.getenv('ASTRA_DB_KEYSPACE')\n",
    "\n",
    "# Making a function for loading the model and importing the openai classes\n",
    "\n",
    "from langchain_openai.embeddings import OpenAIEmbeddings\n",
    "from langchain_openai import ChatOpenAI\n",
    "\n",
    "def load_model(model_name: str = \"gpt-4o\", tools=None):\n",
    "    \"\"\"Load the model dynamically based on the parameter.\"\"\"\n",
    "    model = ChatOpenAI(\n",
    "        model=model_name,\n",
    "        temperature=0,\n",
    "    )\n",
    "    # Bind tools if provided\n",
    "    if tools:\n",
    "        model = model.bind_tools(tools)\n",
    "    \n",
    "    return model\n",
    "\n",
    "embeddings = OpenAIEmbeddings()\n",
    "\n",
    "from langchain_community.vectorstores import AstraDB\n",
    "\n",
    "# Making a function to get the vectorstore for later use\n",
    "\n",
    "def get_vectorstore(collection_name: str) -> AstraDB:\n",
    "    return AstraDB(\n",
    "    embedding=embeddings,\n",
    "    token=ASTRA_DB_API_KEY,\n",
    "    api_endpoint=ASTRA_DB_ENDPOINT,\n",
    "    collection_name=collection_name,\n",
    "    )\n",
    "\n",
    "from pydantic import BaseModel, Field\n",
    "\n",
    "# Creating an baseline modelresponse that can be inheritated by other classes later\n",
    "\n",
    "class ResponseModel(BaseModel):\n",
    "    agent_name: str"
   ]
  },
  {
   "cell_type": "code",
   "execution_count": 316,
   "metadata": {},
   "outputs": [],
   "source": [
    "from langchain.chains.query_constructor.schema import AttributeInfo\n",
    "from langchain.retrievers.self_query.base import SelfQueryRetriever\n",
    "\n",
    "metadata_field_info = [\n",
    "    AttributeInfo(\n",
    "        name='header',\n",
    "        description=\"The 'header' of the page. The 'header' is one of ['Overview', 'Tasks', 'Setup', 'Additional information']\",\n",
    "        type=\"string\",\n",
    "    ),\n",
    "]\n",
    "\n",
    "document_content_description = \"The pages\""
   ]
  },
  {
   "cell_type": "markdown",
   "metadata": {},
   "source": [
    "## Retriever Tool"
   ]
  },
  {
   "cell_type": "code",
   "execution_count": 317,
   "metadata": {},
   "outputs": [],
   "source": [
    "def metadata_retriever_tool(query: str, rag_collection: str = \"not_metadata\") -> str:\n",
    "    \"\"\"Retrieve documents based on a user query and return context.\"\"\"\n",
    "    vectorstore = get_vectorstore(rag_collection)\n",
    "    model = load_model()\n",
    "    retriever = SelfQueryRetriever.from_llm(\n",
    "    model, \n",
    "    vectorstore, \n",
    "    document_content_description, \n",
    "    metadata_field_info, \n",
    "    verbose=True,\n",
    "    search_kwargs={\"k\": 10},\n",
    "    # other search kwargs:  {\"score_threshold\": 0.5}z\n",
    "    )\n",
    "    retrieved_documents = retriever.invoke(query)\n",
    "    context = \"<br />\".join([doc.page_content for doc in retrieved_documents])\n",
    "    return context"
   ]
  },
  {
   "cell_type": "markdown",
   "metadata": {},
   "source": [
    "## Prompt template"
   ]
  },
  {
   "cell_type": "code",
   "execution_count": 318,
   "metadata": {},
   "outputs": [],
   "source": [
    "from langchain_core.prompts import ChatPromptTemplate\n",
    "\n",
    "system_instructions = \"\"\"\n",
    "You are an expert at analyzing pdf documents.\n",
    "You are going to analyze a pdf document and retrieve the content\n",
    "\"\"\"\n",
    "\n",
    "query_data = \"\"\"\n",
    "Here is the pdf document content you want to analyze:\n",
    "{pdf_document}\n",
    "\"\"\"\n",
    "\n",
    "prompt = ChatPromptTemplate.from_messages([\n",
    "    (\"system\", system_instructions),\n",
    "    (\"human\", query_data),\n",
    "])"
   ]
  },
  {
   "cell_type": "code",
   "execution_count": 319,
   "metadata": {},
   "outputs": [
    {
     "data": {
      "text/plain": [
       "ChatPromptValue(messages=[SystemMessage(content='\\nYou are an expert at analyzing pdf documents.\\nYou are going to analyze a pdf document and retrieve the content\\n', additional_kwargs={}, response_metadata={}), HumanMessage(content='\\nHere is the pdf document content you want to analyze:\\n\\nYou are an expert at analyzing pdf documents.\\nYou are going to analyze a pdf document and retrieve the content\\n\\n', additional_kwargs={}, response_metadata={})])"
      ]
     },
     "execution_count": 319,
     "metadata": {},
     "output_type": "execute_result"
    }
   ],
   "source": [
    "new = prompt.invoke(input={\"pdf_document\":system_instructions})\n",
    "new"
   ]
  },
  {
   "cell_type": "markdown",
   "metadata": {},
   "source": [
    "## The standard create agent"
   ]
  },
  {
   "cell_type": "code",
   "execution_count": 320,
   "metadata": {},
   "outputs": [],
   "source": [
    "from typing import Callable, List\n",
    "from langgraph.prebuilt import tools_condition, ToolNode\n",
    "from langchain_core.messages import SystemMessage, AIMessage, HumanMessage\n",
    "from langgraph.prebuilt import ToolNode\n",
    "\n",
    "\n",
    "def create_agent(prompt: str, tools: List[Callable], parser: BaseModel = None, call_after_tool: bool = True):\n",
    "    \n",
    "    def agent(state, config):\n",
    "        llm = load_model(model_name=state.llm_model_name, tools=tools)\n",
    "        \n",
    "        if parser:\n",
    "            llm = llm.with_structured_output(schema=parser)\n",
    "        \n",
    "\n",
    "        prompt = prompt.invoke(input={\"pdf_document\": \"pdf_document\"})\n",
    "\n",
    "        try:\n",
    "            response = llm.invoke(prompt)\n",
    "            state.messages.append(response)\n",
    "\n",
    "            # If tool calls detected, invoke the tools\n",
    "            if tools_condition(state) == 'tools':\n",
    "                tool_node = ToolNode(tools)\n",
    "                response = tool_node.invoke(state)\n",
    "                #print(\"tool node response: \", response)\n",
    "                for tool_message in response['messages']:\n",
    "                    state.messages.append(tool_message)\n",
    "                    if tool_message.artifact:\n",
    "                        # Update state with artifacts\n",
    "                        state = state.copy(update=tool_message.artifact)\n",
    "                    \n",
    "                if call_after_tool:\n",
    "                    agent(state, config)\n",
    "                else:\n",
    "                    return state\n",
    "                \n",
    "        except Exception as e:\n",
    "            state.error_message = f\"An error occurred while generating variables: {e}\"\n",
    "            return state\n",
    "        \n",
    "        return state\n",
    "\n",
    "    return agent"
   ]
  },
  {
   "cell_type": "markdown",
   "metadata": {},
   "source": [
    "## PDF loader\n",
    "\n",
    "source for choosing of loader:\n",
    "\n",
    "https://towardsdatascience.com/analyzing-unstructured-pdf-data-w-embedding-models-and-llms-f83ae9a57c2b/\n",
    "\n",
    "Run the pip install first"
   ]
  },
  {
   "cell_type": "code",
   "execution_count": 321,
   "metadata": {},
   "outputs": [],
   "source": [
    "#pip install fitz frontend pymupdf"
   ]
  },
  {
   "cell_type": "markdown",
   "metadata": {},
   "source": [
    "# Graph\n",
    "\n",
    "1. The user gives a list of structured requirements that the test should contain \n",
    "2. A retriever agent that finds the correct pdf(s) based on the requirements from the user\n",
    "2. A analyzing agent retrieves all the content from each page\n",
    "3. Make a new test based on the requirements and the retrieved pdf(s)"
   ]
  },
  {
   "cell_type": "markdown",
   "metadata": {},
   "source": [
    "## Defining the state\n",
    "\n",
    "1. We need to import all the essentials for running the graph\n",
    "2. Then we define the properties of the system"
   ]
  },
  {
   "cell_type": "code",
   "execution_count": 322,
   "metadata": {},
   "outputs": [],
   "source": [
    "from langgraph.graph import StateGraph, START, END\n",
    "from langgraph.types import Send\n",
    "from langgraph.checkpoint.memory import MemorySaver\n",
    "from IPython.display import display, Image\n",
    "from langchain_core.documents import Document\n",
    "from typing import Annotated, List\n",
    "from pydantic import BaseModel, Field\n",
    "import operator\n",
    "import uuid\n",
    "\n",
    "\n",
    "GET_PDF_FILES = \"get_pdf_files\"\n",
    "GET_PDF_CONTENT = \"get_pdf_content\"\n",
    "\n",
    "\n",
    "class PDF_Image(BaseModel):\n",
    "    id: uuid.UUID\n",
    "    content: str\n",
    "    page_number: int\n",
    "\n",
    "class PDF(BaseModel):\n",
    "    id: uuid.UUID\n",
    "    documents: Annotated[List[Document], operator.add] = Field(default_factory=list)\n",
    "    images: Annotated[List[PDF_Image], operator.add] = Field(default_factory=list)\n",
    "\n",
    "class InputState(BaseModel):\n",
    "    requirements: List[str]\n",
    "    data_path: str\n",
    "\n",
    "class AgentState(BaseModel):\n",
    "    next_agent: str = GET_PDF_FILES\n",
    "    llm_model_name: str = \"gpt-4o-mini\"\n",
    "    pdfs: Annotated[List[PDF], operator.add] = Field(default_factory=list)\n",
    "    error_message: Annotated[str, operator.add] = \"\"\n",
    "    data_path: str = \"../../data\"\n",
    "    files: List[str] = Field(default_factory=list)\n",
    "    chosen_files: List[str] = Field(default_factory=list)\n",
    "    requirements: List[str] = Field(default_factory=list)\n",
    "    image_content: Annotated[List[PDF_Image], operator.add] = Field(default_factory=list)"
   ]
  },
  {
   "cell_type": "markdown",
   "metadata": {},
   "source": [
    "## Creating the retrieiver for the pdf files"
   ]
  },
  {
   "cell_type": "code",
   "execution_count": 323,
   "metadata": {},
   "outputs": [],
   "source": [
    "import os\n",
    "\n",
    "files = []\n",
    "\n",
    "def get_pdf_files(state: AgentState):\n",
    "    # Load the global files\n",
    "    global files\n",
    "    files = []\n",
    "    try:\n",
    "        data_path = state.data_path\n",
    "        #  Get the files in the data directory\n",
    "        for file in os.listdir(data_path):\n",
    "            if file.endswith(\".pdf\"):\n",
    "                files.append(file)\n",
    "    except Exception as e:\n",
    "        state.error_message = f\"An error occurred while retrieving the files: {e}\"\n",
    "        return state\n",
    "    \n",
    "    state.files = files\n",
    "    return state"
   ]
  },
  {
   "cell_type": "markdown",
   "metadata": {},
   "source": [
    "## Creating the agent for retriving the correct pdf"
   ]
  },
  {
   "cell_type": "code",
   "execution_count": 324,
   "metadata": {},
   "outputs": [],
   "source": [
    "################# Our custom retriever prompt ######################\n",
    "\n",
    "from langchain_core.prompts import ChatPromptTemplate\n",
    "\n",
    "system_instructions = \"\"\"\n",
    "You are an expert at retriving the correct pdfs based on some requirements from the user.\n",
    "Analyze the requirements and retrieve the correct pdfs and find the correct pdf.\n",
    "There are following pdfs you can retrieve content from:\n",
    "examples:\n",
    "    user: Here is my requirements: ['requirement1', 'requirement2']\n",
    "    ai-agent: [file.pdf, file2.pdf]\n",
    "\n",
    "    user: Here is my requirements: ['requirement1', 'requirement2', 'requirement3']\n",
    "    ai-agent: [file.pdf]\n",
    "\"\"\"\n",
    "\n",
    "query_data = \"\"\"\n",
    "Here are the pdf files you can retrieve:\n",
    "{files}\n",
    "\n",
    "Which files do you want to retrieve content from given theese requirements: \n",
    "{requirements}\n",
    "\"\"\"\n",
    "\n",
    "retrieve_prompt = ChatPromptTemplate.from_messages([\n",
    "    (\"system\", system_instructions),\n",
    "    (\"human\", query_data),\n",
    "])\n",
    "\n",
    "################# Our custom function for retriving pdf content ######################\n",
    "\n",
    "import fitz\n",
    "\n",
    "def get_pdf_content(pdf_path: str) -> dict:\n",
    "    pdf_document = fitz.open(pdf_path)\n",
    "    text = []\n",
    "    for page_num in range(len(pdf_document)):\n",
    "        page = pdf_document.load_page(page_num)\n",
    "        text.append(page.get_text())\n",
    "    return text\n",
    "\n",
    "\n",
    "################# Our custom agent ######################\n",
    "\n",
    "class RetrieverOutput(BaseModel):\n",
    "    pdf_files: List[str]\n",
    "\n",
    "RETRIEVER_AGENT = \"retriever_agent\"\n",
    "\n",
    "def create_retrieve_agent(chat_prompt: str, agent_name: str, parser: BaseModel = None):\n",
    "    \n",
    "    def agent(state):\n",
    "        llm = load_model(model_name=state.llm_model_name)\n",
    "        # Makes the prompt template with the values from the state\n",
    "        prompt = chat_prompt.invoke(input={\n",
    "            \"files\": state.files,\n",
    "            \"requirements\": state.requirements\n",
    "            })\n",
    "\n",
    "        llm_with_structured_output = llm.with_structured_output(schema=parser)\n",
    "        try:\n",
    "            response = llm_with_structured_output.invoke(prompt)\n",
    "            print(f\"Response: {response}\")\n",
    "            #response.agent_name = agent_name\n",
    "            chosen_files = response.pdf_files\n",
    "            state.chosen_files = chosen_files\n",
    "\n",
    "            if len(chosen_files) == 0:\n",
    "                state.error_message = \"No files were chosen.\"\n",
    "                state.next_agent = END\n",
    "            else:\n",
    "                state.next_agent = GET_PDF_CONTENT\n",
    "            \n",
    "        except Exception as e:\n",
    "            state.error_message = f\"An error occurred while generating variables: {e}\"\n",
    "            return state\n",
    "        return state\n",
    "\n",
    "    return agent\n",
    "\n",
    "retriever_agent = create_retrieve_agent(\n",
    "    chat_prompt=retrieve_prompt,\n",
    "    parser=RetrieverOutput,\n",
    "    agent_name=RETRIEVER_AGENT\n",
    ")"
   ]
  },
  {
   "cell_type": "code",
   "execution_count": 325,
   "metadata": {},
   "outputs": [
    {
     "name": "stdout",
     "output_type": "stream",
     "text": [
      "%%{init: {'flowchart': {'curve': 'linear'}}}%%\n",
      "graph TD;\n",
      "\t__start__([<p>__start__</p>]):::first\n",
      "\tget_pdf_files(get_pdf_files)\n",
      "\tretriever_agent(retriever_agent)\n",
      "\tget_text_content(get_text_content)\n",
      "\tget_image_content(get_image_content)\n",
      "\t__end__([<p>__end__</p>]):::last\n",
      "\t__start__ --> get_pdf_files;\n",
      "\tget_image_content --> __end__;\n",
      "\tget_pdf_files --> retriever_agent;\n",
      "\tretriever_agent --> get_text_content;\n",
      "\tget_text_content -.-> get_image_content;\n",
      "\tclassDef default fill:#f2f0ff,line-height:1.2\n",
      "\tclassDef first fill-opacity:0\n",
      "\tclassDef last fill:#bfb6fc\n",
      "\n"
     ]
    }
   ],
   "source": [
    "import base64\n",
    "import io\n",
    "import fitz\n",
    "from PIL import Image as PILImage\n",
    "\n",
    "def pdf_page_to_base64(pdf_path: str, page_number: int) -> str:\n",
    "    pdf_document = fitz.open(pdf_path)\n",
    "    page = pdf_document.load_page(page_number - 1)  # input is one-indexed\n",
    "    pix = page.get_pixmap()\n",
    "    img = PILImage.frombytes(\"RGB\", [pix.width, pix.height], pix.samples)\n",
    "\n",
    "    buffer = io.BytesIO()\n",
    "    img.save(buffer, format=\"PNG\")\n",
    "\n",
    "    return base64.b64encode(buffer.getvalue()).decode(\"utf-8\")\n",
    "\n",
    "def get_pdf_content(pdf_path: str) -> List[Document]:\n",
    "    pdf_document = fitz.open(pdf_path)\n",
    "    documents = []\n",
    "    for page_num in range(len(pdf_document)):\n",
    "        page = pdf_document.load_page(page_num)\n",
    "        page_content = page.get_text()\n",
    "        document = Document(\n",
    "            page_content=page_content,\n",
    "            metadata={\n",
    "                \"source\": pdf_path, \n",
    "                \"page_number\": page_num + 1,\n",
    "                \"file_name\": os.path.basename(pdf_path),\n",
    "                \n",
    "                }\n",
    "        )\n",
    "        documents.append(document)\n",
    "    return documents\n",
    "\n",
    "\n",
    "GET_TEXT_CONTENT = \"get_text_content\"\n",
    "\n",
    "def get_text_content(state: AgentState) -> AgentState:\n",
    "    pdf_path = state.data_path\n",
    "    files = state.chosen_files\n",
    "    for file in files:\n",
    "        pdf_content = get_pdf_content(f\"{pdf_path}/{file}\")\n",
    "        pdf = PDF(id=uuid.uuid4(), documents=pdf_content)\n",
    "        state.pdfs.append(pdf)\n",
    "    print(\"Saved the follwing text from pdfs: \", state.pdfs)\n",
    "    return state\n",
    "\n",
    "\n",
    "GET_IMAGE_CONTENT = \"get_image_content\"\n",
    "\n",
    "#Optional model if we want to define the image content\n",
    "class ImageInformation(BaseModel):\n",
    "    \"\"\"Information about an image.\"\"\"\n",
    "    content: str\n",
    "\n",
    "#The state for each get image content agents\n",
    "class DocumentState(BaseModel):\n",
    "    document: Annotated[List[Document], operator.add]\n",
    "    data_path: str\n",
    "    error_message: Annotated[str, operator.add] = \"\"\n",
    "    llm_model_name: str = \"gpt-4o-mini\"\n",
    "\n",
    "\n",
    "def get_image_content_agent():\n",
    "    \n",
    "    async def agent(state: DocumentState):\n",
    "        llm = load_model(model_name=state.llm_model_name)\n",
    "        pdf_path = state.data_path\n",
    "        document = state.document[0]\n",
    "        try:\n",
    "            #for document in pdf.documents:\n",
    "            page_num = document.metadata[\"page_number\"]\n",
    "            file = document.metadata[\"file_name\"]\n",
    "            base64_image = pdf_page_to_base64(f\"{pdf_path}/{file}\", page_num)\n",
    "            print(f\"Infering the image content of page {page_num} in {file}\")\n",
    "            # Define the query\n",
    "            query = f\"Analyze the content of the image in {page_num}\"\n",
    "\n",
    "            # Create the message with text and image\n",
    "            message = HumanMessage(\n",
    "                content=[\n",
    "                    {\"type\": \"text\", \"text\": query},\n",
    "                    {\n",
    "                        \"type\": \"image_url\",\n",
    "                        \"image_url\": {\"url\": f\"data:image/jpeg;base64,{base64_image}\"},\n",
    "                    },\n",
    "                ],\n",
    "            )\n",
    "\n",
    "            # Query the model\n",
    "            response = await llm.ainvoke([message])\n",
    "            pdf_image = PDF_Image(id=uuid.uuid4(), content=response.content, page_number=page_num)\n",
    "            document.metadata[\"image\"] = pdf_image\n",
    "            print(f\"Image content in document: {document.metadata}\")\n",
    "            return {\"document\": [document]}\n",
    "        except Exception as e:\n",
    "            {\"pdfs\" :f\"An error occurred while generating variables: {e}\"}\n",
    "\n",
    "    return agent\n",
    "\n",
    "\n",
    "image_content_agent = get_image_content_agent()\n",
    "\n",
    "\n",
    "def continue_to_analyze_documents(state: AgentState):\n",
    "    return [\n",
    "        Send(\n",
    "            GET_IMAGE_CONTENT, \n",
    "            DocumentState(\n",
    "                document=[document],\n",
    "                data_path=state.data_path,\n",
    "                error_message=state.error_message,\n",
    "                llm_model_name=state.llm_model_name,\n",
    "            )\n",
    "        ) \n",
    "        for pdf in state.pdfs  # Iterate over each PDF\n",
    "        for document in pdf.documents  # Iterate over each document and image\n",
    "    ]\n",
    "\n",
    "    \n",
    "builder = StateGraph(state_schema=AgentState, input=InputState)\n",
    "\n",
    "builder.add_node(GET_PDF_FILES, get_pdf_files)\n",
    "builder.add_node(RETRIEVER_AGENT, retriever_agent)\n",
    "builder.add_node(GET_TEXT_CONTENT, get_text_content)\n",
    "builder.add_node(GET_IMAGE_CONTENT, image_content_agent)\n",
    "\n",
    "builder.add_edge(START, GET_PDF_FILES)\n",
    "builder.add_edge(GET_PDF_FILES, RETRIEVER_AGENT)\n",
    "builder.add_edge(RETRIEVER_AGENT, GET_TEXT_CONTENT)\n",
    "builder.add_conditional_edges(GET_TEXT_CONTENT, \n",
    "                              continue_to_analyze_documents, \n",
    "                              [GET_IMAGE_CONTENT]\n",
    "                              )\n",
    "builder.add_edge(GET_IMAGE_CONTENT, END)\n",
    "\n",
    "\n",
    "memory = MemorySaver()\n",
    "graph = builder.compile(checkpointer=memory)\n",
    "\n",
    "print(graph.get_graph().draw_mermaid())"
   ]
  },
  {
   "cell_type": "code",
   "execution_count": 326,
   "metadata": {},
   "outputs": [
    {
     "data": {
      "image/png": "[encoded data removed]",
      "text/plain": [
       "<IPython.core.display.Image object>"
      ]
     },
     "metadata": {},
     "output_type": "display_data"
    }
   ],
   "source": [
    "display(Image(graph.get_graph().draw_mermaid_png()))"
   ]
  },
  {
   "cell_type": "markdown",
   "metadata": {},
   "source": [
    "## Running the graph"
   ]
  },
  {
   "cell_type": "code",
   "execution_count": 327,
   "metadata": {},
   "outputs": [],
   "source": [
    "config = {\n",
    "    \"configurable\": {\n",
    "        \"thread_id\": str(uuid.uuid4()),\n",
    "        }}\n",
    "\n",
    "\n",
    "async def run_client(requirements: list[str], config: dict[str, dict[str, str]] = config) -> AgentState:\n",
    "    print(\"### Start Client ###\\n\")\n",
    "\n",
    "    state = InputState(\n",
    "    requirements=requirements,\n",
    "    data_path=\"../../data\",\n",
    "\n",
    "    )\n",
    "\n",
    "    output_state = await graph.ainvoke(state, config)\n",
    "\n",
    "    if error := output_state.get(\"error_message\"):\n",
    "        print(\"\\n🙈\", error)\n",
    "\n",
    "    return output_state\n"
   ]
  },
  {
   "cell_type": "code",
   "execution_count": 330,
   "metadata": {},
   "outputs": [
    {
     "name": "stdout",
     "output_type": "stream",
     "text": [
      "### Start Client ###\n",
      "\n",
      "Response: pdf_files=['test_with_images.pdf']\n",
      "Saved the follwing text from pdfs:  [PDF(id=UUID('bf66f5e4-9339-40aa-a2a0-cb9152706493'), documents=[Document(metadata={'source': '../../data/test_with_images.pdf', 'page_number': 1, 'file_name': 'test_with_images.pdf'}, page_content='DISXRA Rental Agreement to Invoice.docx \\n \\nPage  1 \\n \\nRental Agreement to Invoice \\nRental is a supplementary revenue stream for distribution companies. Customers can be professionals with an \\nexisting customer number, or they can be walk-in customers. A daily rate will be charged for the number of days \\nthe items were at the customer’s site. The agreements tend to have a short validity period, often only a few days. \\nA rental agreement is a combination of two distribution orders: \\n \\n \\n \\nCustomers can either pay directly (cash) via the cash desk, or they can pay against a rental invoice (credit). Two \\nrental agreement order types are defined for that purpose: \\n• \\nCO1 – Cash via the cash desk: immediate payment of the rental deposit or the entire rental invoice as an \\nadvance invoice. The customer’s payment terms must be CSH (Cash), combined with payment method \\nCSD (Cash Desk). \\n• \\nCO2 – Credit against an invoice, applying the normal payment terms, such as 30 days end-of-month. \\n \\nDeposits can be used persuading the customer to return the rental items on time at the end of the rental \\nagreement. Upon return, the deposit is reconciliated against the advance payment at the beginning of the \\nagreement. \\nThe order to cash for rental process is simplified through a reduced scope: \\n• \\nThe rental store is existing warehouse 003, which is part of facility A03 in division AAA. \\n• \\nThe on-rent warehouse is R03, also part of facility A03. \\n• \\nThe Rental Counter is used to minimize the number of clicks within the end-to-end process. \\n• \\nRental rates are expressed in weekdays. Seven-day weeks are used. Days rented out invoiced. Metered \\nserial numbers will be invoiced for over usage hours, based on a meter-specific rental price list. \\n• \\nCharges can be added for rental lines. \\n• \\nDiscounts can be added to rental lines. \\n• \\nActive rental agreements will automatically generate a maintenance agreement with the same number. \\nThis maintenance agreement is automatically connected to the serial number and will facilitate the \\nprocess when the customers report equipment break downs. This is covered in the service process. \\n• \\nUp rent and down rent are possible in case the wanted rental item is not in stock. \\n• \\nThe checkout is simplified from the rental store 003. Once the rental contract is activated, the rental items \\ngo on-rent automatically. No extra clicks are required. For metered serial numbers, the checkout meter \\nvalue is recorded. \\n• \\nA rental item can have a serial number, but that is not required. Serial numbers can be subject to an off-\\nhire inspection. Serial numbers also have a replacement value defined. \\n• \\nConsumables (spare parts) can be sold via the rental agreement. These items do not return to the rental \\nstore 003. \\n• \\nA rental line can be converted into an involuntary sale when the rental item is damaged beyond repair. \\nThe principle is “you break it, you buy it”. \\n'), Document(metadata={'source': '../../data/test_with_images.pdf', 'page_number': 2, 'file_name': 'test_with_images.pdf'}, page_content='DISXRA Rental Agreement to Invoice.docx \\n \\nPage  2 \\n \\n• \\nA rental contract can be paused (stand down) if needs be. During the stand down period, the customer is \\nnot paying the rental rate. \\n• \\nThe check-in into rental store 003 is controlled via the picking list printout. This enables the rental \\ncoordinator to visually inspect the returned rental items. For metered serial numbers, the check-in meter \\nvalue is recorded. \\n• \\nAn off-hire inspection is activated for selected serialized items. \\n• \\nOnce the rental agreement (line) is invoiced, the maintenance agreement with the same number is \\nautomatically deactivated and removed from the serial number. \\n \\nA second and parallel rental depot is setup in facility A04 with the rental yard being branch warehouse A10. This \\nlist outlines the differences: \\n \\nPurpose \\nProgram \\nFacility A03 Data \\nFacility A04 Data \\nFacility \\nCRS008 \\nA03 \\nA04 \\nWarehouse (rental yard) \\nMMS005 \\n003 \\nA10 \\nOn-hire warehouse \\nMMS005 \\nR03 \\nR10 \\nMobile warehouse \\nMMS005 \\nM01 \\nM10 \\nDepartment \\nCRS080 \\nA03REN \\nA04REN \\nWork center \\nPDS010 \\nA03CHECK \\nA04CHECK \\nCash desk \\nOIS210 \\nZRCD \\nA04RC \\nDefault locations \\nSTS595 \\n003 \\nR10 \\nRental depot \\nSTS030 \\n003 \\nR10 \\n \\nThe Rental Agreement to On-rent process starts from the steps to create a walk-in customer and identifying the \\nrequest and stop with processing the advance payment. The process includes the following sub-processes: \\n \\nThe order to cash process for rental includes the following sub processes: \\n1. Rental Agreement to On-Rent. \\n2. Manage On-Rent Agreements. \\n3. Terminate Rental Agreement to Payment. \\n \\n \\n'), Document(metadata={'source': '../../data/test_with_images.pdf', 'page_number': 3, 'file_name': 'test_with_images.pdf'}, page_content='DISXRA Rental Agreement to Invoice.docx \\n \\nPage  3 \\n \\nRental Agreement to On-rent \\nThe Rental Agreement to On-rent process starts from the steps to create a walk-in customer and identifying the \\nrequest and stop with processing the advance payment. The process includes the following sub-processes: \\n• \\nUse Rental Counter \\n• \\nCreate Walk-in Customer \\n• \\nIdentify Request \\n• \\nCreate Rental Agreement \\n• \\nRental Payments \\n \\n \\nUse Rental Counter \\nThe Rental Counter enables the rental coordinator to run the entire end-to-end process from one single \\napplication. Information from different programs and different screens is gathered on one single application. The \\nRental Counter is a web-mashup, deployed in the Infor H5 client. It is supported by Infor Product Development, \\nand because of that, it must be considered an application rather than a mashup. You can still use “classic” \\nnavigation in Infor M3 to run the end-to-end process for rental, but then you use a range of different individual \\nprograms, which is normal practice in Infor M3. See the tips section for more information. \\n \\nFor Cloud Suite Distribution Enterprise, a light version of the rental process was added to the solution. The rental \\ncoordinator does everything over the counter, facing the customer directly. The limited complexity of the rental \\nitems allows the customer a high level of self-service. The rental coordinator needs to convert the customer’s \\nchoices into a rental agreement. Integration with the Cash Desk makes the processes smoother and lighter. \\n \\n \\n'), Document(metadata={'source': '../../data/test_with_images.pdf', 'page_number': 4, 'file_name': 'test_with_images.pdf'}, page_content='DISXRA Rental Agreement to Invoice.docx \\n \\nPage  4 \\n \\nCreate Walk-in Customer \\nRental is an additional revenue stream in the distribution industry. Most often, the customer is unknown when they \\nwalk up to the rental counter. A true walk-in customer, also known as a sundry customer. Yet, when renting out to \\nthe customer, a minimum of information must be known. Some form of traceability is necessary. A rental \\nagreement is a binding contract, after all. A temporary customer is perfect for that purpose. A new walk-in \\ncustomer can be created on the fly via the Rental Counter, prior to registering the rental agreement. A category 8 \\ntemporary customer is created in Customer. Open (CRS610). \\n \\nNormal European Union (EU) General Data Protection Regulation (GDPR) is valid for walk-in customers. \\n \\n \\n \\nIdentify Request \\nA known customer, or a walk-in customer wants to rent items from the warehouse (rental store). In the rental \\nprocess, the customer location address is a central key value. It determines who is renting and where exactly the \\nrental item is going to be used. \\n \\nOnce it established who will rent, the next part is to select the rental items. Rental can have a serial number, but \\nthat is not mandatory. When an item is not in stock, the Rental Counter will inform the rental coordinator about it. \\nSome items are consumables and can be sold, rather than rented. \\nThe normal end-to-end business processes, such as procure to pay, are used to bring rental items into rental \\nstore warehouse 003. \\n \\n \\n \\n \\n'), Document(metadata={'source': '../../data/test_with_images.pdf', 'page_number': 5, 'file_name': 'test_with_images.pdf'}, page_content='DISXRA Rental Agreement to Invoice.docx \\n \\nPage  5 \\n \\nCreate Rental Agreement \\nOnce the customer and the rental item (equipment) are selected, the agreement can be created. There are three \\nchoices: \\n1. \\nActive agreement (prefix A). The agreement goes “on-rent” immediately. That means the rental items \\n“leave” warehouse 003 onto the on-rent warehouse R03. For metered items, the check-out meter \\nreading is done. \\n2. \\nQuotation agreement (prefix Q). The quotation must be approved by the customer. This lies outside \\nof the scope. \\n3. \\nTemporary agreement (prefix T). This agreement must be converted into an active agreement. \\nBecause it is temporary, it is easier to change information such as sales or rental prices, add \\ndiscounts, add line charges, etc. It gives more control to the rental coordinator to meet the customer’s \\ndemands. \\n \\n \\nRental Payments \\nAn active (A) agreement can be paid for via the cash desk using rental agreement type CO1. It can be to collect a \\ndeposit amount at the beginning of the agreement and/or to control the payment when the agreement is finally \\ninvoiced. Deposits are only possible when the rental agreement type is enabled for it. If that is not the case, the \\ncash payment will take place when the rental agreement is terminated. The customer’s payment method will \\ndecide whether the cash desk is used or not. \\n \\nThe cash desk payments received via the Rental Counter and the Cash Desk are validated regularly, along with \\nany other cash payments received. Usually this is done at the end of the day, once the Cash Desk and the Rental \\nCounter processes are complete. When the cash desk is validated a new validation date is set, normally for the \\nnext working day and no more cash payments may be received in the Cash Desk. On validation, Accounts \\nReceivable and the General Ledger are updated. \\nManage On-rent Agreements \\nThe Manage On-rent Agreements process include tasks that can be performed when a unit is on rent. The \\nprocess includes the following sub-processes: \\n• \\nManage Stand-down Periods \\n• \\nEnter Involuntary Sales \\n• \\nMass-update Rental Lines \\n \\n \\n'), Document(metadata={'source': '../../data/test_with_images.pdf', 'page_number': 6, 'file_name': 'test_with_images.pdf'}, page_content='DISXRA Rental Agreement to Invoice.docx \\n \\nPage  6 \\n \\nManage Stand-down Periods \\nThere are valid reasons why the customer should not be paying for the on-rent items. A classic example is a \\npublic (bank) holiday, such as Christmas day or New Year’s Day. \\n \\nOne or several intervals of dates can be defined for the rental agreement line where the agreement stands down. \\nDuring this interval, the customer is not invoiced. \\n \\n \\n \\nEnter Involuntary Sales \\nIt happens that the customer damages or breaks the rental item(s). The principle here is “you break it, you buy it”. \\nThe rental agreement line can be converted into a sales line, albeit involuntary on the customer’s perspective. \\nThat means that the customer owns the damaged rental item. There is no need any more to return it to the rental \\nwarehouse 003. \\n \\nThe sales price is determined by the rental coordinator. The replacement value for the rental item in question in \\nItem. Open Service Supplement (SOS001) is a good indication. The customer will pay for the rental days as well \\nas the (involuntary) sales price of the rental item. \\n \\nNote: The Enter Involuntary Sales process diagram is sililar to the Manage Stand-down Periods process. \\n \\n \\n \\n \\n'), Document(metadata={'source': '../../data/test_with_images.pdf', 'page_number': 7, 'file_name': 'test_with_images.pdf'}, page_content='DISXRA Rental Agreement to Invoice.docx \\n \\nPage  7 \\n \\nMass-update Rental Lines \\nCustomers can change their minds. It should be easy to mass update all rental lines based on the customer’s \\nwishes. The most common change is the validity period for the rental agreement lines. From the Rental Counter, \\nyou can mass change the complete rental agreement. The change(s) will be inherited by all rental lines. \\n \\n \\n \\nExchange Rental Line \\nIt happens that the rental item breaks down, with the customer not to be blamed. Replacing (exchanging) the \\nrental item is the solution. The broken/damaged rental item returns to the rental depot and the replacement rental \\nitem is going on-rent immediately, enabling the customer to carry on until the end of the rental agreement.  \\n \\n \\nTerminate Rental Agreement to Payment \\nThe Terminate Rental Agreement to Payment process starts with the termination of the rental agreement and \\nstops with the invoicing and payment. The process includes the following sub-processes: \\n• \\nTerminate Rental Agreement \\n• \\nReport Goods Return \\n• \\nReport Off-hire Service \\n• \\nInvoice Rental Agreement \\n \\n \\n \\n'), Document(metadata={'source': '../../data/test_with_images.pdf', 'page_number': 8, 'file_name': 'test_with_images.pdf'}, page_content='DISXRA Rental Agreement to Invoice.docx \\n \\nPage  8 \\n \\nTerminate Rental Agreement \\nAn active (A) agreement will end when: \\n• \\nThe customer returns the rental items to warehouse 003. This can be before the end of the rental \\nagreement end date. \\n• \\nThe rental agreement reaches its end date. The customer is expected to return the rental goods to \\nwarehouse 003 at the correct date. \\nYou can terminate either the complete rental agreement, including all its rental lines, or you can terminate \\nindividual rental lines separately. Off-hire and terminate rental agreement mean the same thing. Knowing the start \\nand the end date of the rental contract is good information to determine when to terminate the agreement. \\n \\n \\nReport Goods Return \\nThe rental agreement was terminated. The rental coordinator now has to check-in the rental items. Check-in is the \\nsame as receiving the rental items back into warehouse 003. When the rental item is metered, the check-in meter \\nwill be recorded. Consumption meters such as fuel tanks are out of scope. That said, the dispatch policy for the \\ninbound distribution order (R03=>003) is configured to stop this subprocess after automatic allocation (status 33). \\nIf not stopped, the system would automatically receive the distribution order (to status 99) and the rental \\ncoordinator has no control over the check-in process. \\n \\nRelease for picking for the inbound distribution order’s delivery number will: \\n• \\nReceive the rental items (both serialized and non-serialized) back in warehouse 003. See the result in \\nStock Transaction. Display History (MWS070). \\n• \\nTrigger the RENTAL OFF-HIRE service via a work order request. That request will automatically convert \\nitself into a work order. See more details on the RENTAL OFF-HIRE service, also known as the turn-\\naround service in the Report Off-Hire Service document. \\nThe rental lines can now be invoiced. \\n \\n \\n'), Document(metadata={'source': '../../data/test_with_images.pdf', 'page_number': 9, 'file_name': 'test_with_images.pdf'}, page_content='DISXRA Rental Agreement to Invoice.docx \\n \\nPage  9 \\n \\nReport Off-hire Service \\nThe rental agreement was terminated, and the rental items have been received back into warehouse 003. A \\nvisual inspection is done by the rental coordinator, making sure that the received rental equipment is complete, \\nclean and in working order. The invoicing of the rental agreement can take place before this off-hire inspection is \\ndone. The RENTAL OFF-HIRE service is defined with just one operation line: visually checking the rental item. In \\ncase the rental item is damaged, it can be quarantined.  \\nDescribed in the service process, a separate ADHOC FIELD SERVICE can be created to repair the damage and \\nif needs be, invoice the customer for the used time and material. The repair will also take the rental out of \\nquarantine and back into the rental fleet.  \\n \\n \\nInvoice Rental Agreement \\nThe process includes the following sub-processes: \\n• \\nReconcile Deposit \\n• \\nProcess Invoice Proposal \\n• \\nCreate Invoice \\n• \\nCreate Credit Note \\n \\n'), Document(metadata={'source': '../../data/test_with_images.pdf', 'page_number': 10, 'file_name': 'test_with_images.pdf'}, page_content='DISXRA Rental Agreement to Invoice.docx \\n \\nPage  10 \\n \\nReconcile Deposit \\nDeposits are used as a security. It will ensure that the rented items are returned. A deposit was paid by the \\ncustomer when the rental agreement with rental order type CO1 was activated. The cash desk was used to collect \\nthis deposit. \\nAt the end of the rental agreement, the customer returns the rental items to the warehouse. Now is the time to \\ncompare the deposit paid with the actual rental cost. You reconcile the deposit. \\n• \\nWhen the deposit exceeds the actual rental cost, a credit note will be generated to pay this amount back to \\nthe customer. This can happen when the customer returns the rental items early. \\n• \\nWhen the deposit does not cover the actual rental cost, an invoice will be generated to bill the customer \\nthis extra charge. Happens when the customer returns the rental items too late. \\nWhen the deposit and the actual rental cost is equal, nothing will be invoiced. Happens when the customer \\nreturns the rental goods on-time. \\n \\nProcess Invoice Proposal \\nInvoicing a rental agreement is a four-step process: \\n1. Create an invoice proposal. \\n2. Review the created invoice proposal. \\n3. Approve the created invoice proposal (optional). \\n4. Create the rental invoice based on the approved invoice proposal. This is optional in this document. Refer \\nto the Create Invoice document. \\nThe first three steps cover the invoice proposal. Optional instructions are added to continue all the way to a rental \\ninvoice, but it is advised to not go beyond the invoice proposal stage. \\n \\nCreate Invoice \\nThis represents the last step in the invoicing process. An invoice proposal can already exist, but that is not \\nmandatory. The four steps covered in the invoice proposal can be condensed into one single step by click the \\nPayment icon in the Rental Counter. When the customer has payment method CSD, the cash desk will be \\npresented showing the grand total of all rental lines and consumable/spare parts sales lines. \\n \\nCreate Credit Note \\nA customer can contest a rental invoice. Most commonly due to incorrect pricing or forgotten discounts. There are \\nthree options to overcome this problem. Each of these three options will have a connection back to the original \\nrental invoice number to maximize traceability. \\n1. Partial credit – Changes can be made, and the credit note is generated. The total credited amount cannot \\nexceed the original invoice amount. \\n2. Full credit – Changes cannot be made, and the full amount is credited. The invoice is annulled. \\n3. Credit and re-invoice – Like option 2, but the system will re-invoice the net difference through a new \\ninvoice number. This option is not valid for rental agreement with collected deposit amounts. \\nJust like rental invoicing, rental crediting has different steps: \\n1. Create a credit proposal, choosing one of the 3 options described here above. \\n2. Amend the amounts, but only for partial credit (option 1) and credit/re-invoice (option 3). \\n3. Approve the amended credit proposal. \\n4. Create the credit note. \\nNote: Steps 3 and 4 can be compressed to one click in the Rental Counter: click the Payment icon. When the \\npayment method is cash (CSD), it is possible to pass via the cash desk in Cash Payment. Open (OIS215). The \\namounts will be negative. \\n \\n \\n'), Document(metadata={'source': '../../data/test_with_images.pdf', 'page_number': 11, 'file_name': 'test_with_images.pdf'}, page_content='DISXRA Rental Agreement to Invoice.docx \\n \\nPage  11 \\n \\nRecord Payment \\nWe refer to the Financial Plan to Report processes and, the Accounts Receivable – Customer \\nPayments process (DISXFI.25 and DISXFI.25.05), for the recording of the payment. \\n \\n \\n \\n \\n')], images=[])]\n",
      "Infering the image content of page 1 in test_with_images.pdf\n",
      "Infering the image content of page 2 in test_with_images.pdf\n",
      "Infering the image content of page 3 in test_with_images.pdf\n",
      "Infering the image content of page 4 in test_with_images.pdf\n",
      "Infering the image content of page 5 in test_with_images.pdf\n",
      "Infering the image content of page 6 in test_with_images.pdf\n",
      "Infering the image content of page 7 in test_with_images.pdf\n",
      "Infering the image content of page 8 in test_with_images.pdf\n",
      "Infering the image content of page 9 in test_with_images.pdf\n",
      "Infering the image content of page 10 in test_with_images.pdf\n",
      "Infering the image content of page 11 in test_with_images.pdf\n",
      "Image content in document: {'source': '../../data/test_with_images.pdf', 'page_number': 2, 'file_name': 'test_with_images.pdf', 'image': PDF_Image(id=UUID('7fc0e1ad-e3a8-4ebd-b271-dddb8028ed92'), content='The content of the image outlines a rental agreement process, detailing specific procedures and data related to rental contracts and facilities. Here’s a summary of the key points:\\n\\n1. **Rental Contract Management**:\\n   - Contracts can be paused (stand down) without payment during the pause.\\n   - Check-in processes are controlled via printouts, allowing for visual inspections of rental items.\\n   - An off-hire inspection is required for certain serialized items.\\n\\n2. **Facility Setup**:\\n   - A second rental depot is established in facility A04, with a parallel setup to facility A03.\\n   - Differences in program and facility data are listed for various purposes, such as on-hire warehouses, mobile warehouses, and cash desks.\\n\\n3. **Order to Cash Process**:\\n   - The process for rental agreements includes three main sub-processes:\\n     1. Creating a rental agreement.\\n     2. Managing on-rent agreements.\\n     3. Converting rental agreements to payment.\\n\\nThis document serves as a guide for managing rental agreements and the associated processes within the specified facilities.', page_number=2)}\n",
      "Image content in document: {'source': '../../data/test_with_images.pdf', 'page_number': 4, 'file_name': 'test_with_images.pdf', 'image': PDF_Image(id=UUID('fce63508-f283-4ed5-a2a6-8e3accc13eab'), content='The content of the image outlines a process for creating a walk-in customer rental agreement in a distribution context. Here’s a breakdown of the key points:\\n\\n### Create Walk-in Customer\\n- **Purpose**: Establish a rental agreement for walk-in customers, who may be unknown at the time of rental.\\n- **Requirements**: A minimum amount of customer information is necessary for traceability.\\n- **Process**: \\n  - A temporary customer is created using the Rental Counter system.\\n  - A category 8 temporary customer is registered in the system (Customer Open CRS610).\\n- **Regulation**: The process adheres to the EU General Data Protection Regulation (GDPR).\\n\\n### Identify Request\\n- **Customer Identification**: The process begins with identifying the walk-in customer who wants to rent items.\\n- **Key Information**: The customer’s location is crucial for determining who is renting and where the rental will be used.\\n- **Next Steps**:\\n  - Select the rental items.\\n  - The rental may have a serial number, but it is not mandatory.\\n  - If an item is out of stock, the Rental Counter will notify the rental coordinator.\\n- **Business Processes**: Standard processes like procure-to-pay are utilized to manage the rental items.\\n\\n### Visual Flow\\n- The image likely includes a flowchart illustrating the steps involved in enabling a rental customer, selecting a customer, choosing a location, and searching for equipment, culminating in the creation of a rental agreement.\\n\\nThis structured approach ensures that the rental process is efficient and compliant with regulations while providing a clear pathway for walk-in customers.', page_number=4)}\n",
      "Image content in document: {'source': '../../data/test_with_images.pdf', 'page_number': 8, 'file_name': 'test_with_images.pdf', 'image': PDF_Image(id=UUID('5ae43001-d884-4925-b9de-c553c9180ed5'), content='The content of the image appears to be a page from a document related to a rental agreement process, specifically focusing on terminating a rental agreement and reporting the return of goods. Here’s a breakdown of the key points:\\n\\n### Terminate Rental Agreement\\n- **Conditions for Ending an Agreement**:\\n  - The customer returns rental items to a specified warehouse (warehouse 003).\\n  - The rental agreement reaches its end date.\\n\\n- **Options for Termination**:\\n  - You can terminate the entire rental agreement or individual rental lines.\\n  - Understanding the start and end dates of the contract is crucial for determining when to terminate.\\n\\n### Report Goods Return\\n- **Process After Termination**:\\n  - The rental coordinator must check in the returned rental items.\\n  - Check-in is equivalent to receiving items back into the warehouse.\\n\\n- **System Operations**:\\n  - Consumption meters (like fuel tanks) are not included in this process.\\n  - The system has specific configurations for handling inbound distribution orders and check-in processes.\\n\\n- **Steps for Release**:\\n  - Receive the rental items back into the warehouse.\\n  - Trigger a service request for the rental off-hire process, which will convert into a work order.\\n\\n### Additional Notes\\n- The document emphasizes the importance of following the correct procedures for both terminating agreements and processing returns to ensure smooth operations.\\n\\nThis summary encapsulates the main points and processes outlined in the image.', page_number=8)}\n",
      "Image content in document: {'source': '../../data/test_with_images.pdf', 'page_number': 1, 'file_name': 'test_with_images.pdf', 'image': PDF_Image(id=UUID('ff17550b-b4ad-48d3-a3b2-cd9528c8500e'), content=\"The document appears to be a guide or policy regarding the process of converting rental agreements into invoices for a distribution company. Here’s a summary of the key points:\\n\\n### Overview\\n- **Rental as Revenue**: Rental services provide additional revenue for distribution companies, catering to both existing customers and walk-in clients.\\n- **Daily Rates**: Charges are based on the number of days items are rented, typically at the customer's location.\\n\\n### Rental Agreement Types\\n- **Combination of Orders**: A rental agreement combines two types of distribution orders:\\n  - **Outbound Order**: Activated when the rental agreement is initiated (check-out).\\n  - **Inbound Order**: Initiated when the rental agreement is terminated (check-in).\\n\\n### Payment Methods\\n- **Direct Payment**: Customers can pay cash at the cash desk or use credit against a rental invoice.\\n- **Order Types**:\\n  - **CO1**: Cash payment for the rental deposit or entire invoice.\\n  - **CO2**: Credit against an invoice with standard payment terms.\\n\\n### Deposits and Returns\\n- **Deposits**: Collected to ensure the return of rental items, reconciled at the end of the rental period.\\n- **Simplified Checkout**: The process is streamlined for efficiency.\\n\\n### Additional Details\\n- **Serial Numbers**: Items may have serial numbers for tracking, but they are not mandatory.\\n- **Maintenance Agreements**: Active rental agreements are linked to maintenance agreements for equipment.\\n- **Involuntary Sales**: Items damaged beyond repair can be converted to a sale.\\n\\n### Conclusion\\nThe document outlines a structured approach to managing rental agreements, emphasizing payment methods, item tracking, and the importance of maintenance agreements. It aims to facilitate a smooth rental process for both the company and its customers.\", page_number=1)}\n",
      "Image content in document: {'source': '../../data/test_with_images.pdf', 'page_number': 7, 'file_name': 'test_with_images.pdf', 'image': PDF_Image(id=UUID('0a4ddf54-de4d-4b1f-95b9-f7681a696bbc'), content='The image outlines a flowchart related to rental agreements, detailing three main processes: mass-updating rental lines, exchanging rental items, and terminating rental agreements to payment. Here’s a breakdown of each section:\\n\\n1. **Mass-update Rental Lines**:\\n   - Customers can easily update rental lines based on their preferences.\\n   - The process begins with selecting a customer and checking if they have an agreement.\\n   - If confirmed, the agreement can be mass-updated, and the changes will apply to all rental lines.\\n\\n2. **Exchange Rental Line**:\\n   - This section addresses situations where a rental item breaks down.\\n   - The process involves selecting a customer and confirming their agreement.\\n   - If an exchange is necessary, the broken item is returned, and a replacement is provided immediately.\\n\\n3. **Terminate Rental Agreement to Payment**:\\n   - This process starts with terminating the rental agreement and includes invoicing and payment.\\n   - It consists of several sub-processes:\\n     - Terminating the rental agreement.\\n     - Reporting the return of goods.\\n     - Reporting off-hire services.\\n     - Invoicing the rental agreement.\\n\\nOverall, the flowchart provides a structured approach to managing rental agreements, ensuring customer needs are met efficiently.', page_number=7)}\n",
      "Image content in document: {'source': '../../data/test_with_images.pdf', 'page_number': 3, 'file_name': 'test_with_images.pdf', 'image': PDF_Image(id=UUID('c223693e-9996-47e0-b6fa-d5f7af8b291f'), content='The image outlines a process flow for a \"Rental Agreement to On-rent\" system, detailing the steps involved in creating a rental agreement for walk-in customers. Here’s a breakdown of the content:\\n\\n### Key Components:\\n1. **Process Overview**:\\n   - The process begins with creating a walk-in customer and identifying their request, concluding with processing the advance payment.\\n\\n2. **Sub-processes**:\\n   - **Use Rental Counter**: Central to the process, allowing coordination of rental activities.\\n   - **Create Walk-in Customer**: Establishing customer details.\\n   - **Identity Request**: Verifying customer identity.\\n   - **Create Rental Agreement**: Formalizing the rental terms.\\n   - **Rental Payments**: Handling payment transactions.\\n\\n3. **Use Rental Counter**:\\n   - Describes the functionality of the Rental Counter, which consolidates various programs and screens into a single application for efficiency.\\n   - It is a web-mashup deployed in the Infor H5 client, enhancing user experience by integrating multiple functionalities.\\n\\n4. **Cloud Suite Distribution Enterprise**:\\n   - A simplified version of the rental process is mentioned, emphasizing customer self-service and direct interaction with the rental coordinator.\\n   - Integration with the Cash Desk is highlighted to streamline operations.\\n\\n### Visual Elements:\\n- The flowchart likely illustrates the sequence of steps and decision points in the rental process, enhancing clarity and understanding of the workflow.\\n\\n### Conclusion:\\nThe document serves as a guide for understanding the rental agreement process, emphasizing efficiency, customer service, and integration of various systems to facilitate smooth operations.', page_number=3)}\n",
      "Image content in document: {'source': '../../data/test_with_images.pdf', 'page_number': 6, 'file_name': 'test_with_images.pdf', 'image': PDF_Image(id=UUID('79636fba-5aa6-49f9-b0d2-a9f9c8197bbc'), content='The content of the image outlines two processes related to rental agreements: \"Manage Stand-down Periods\" and \"Enter Involuntary Sales.\"\\n\\n### Manage Stand-down Periods\\n- **Purpose**: To define intervals during which a customer is not charged for on-rent items, typically due to public holidays.\\n- **Process Steps**:\\n  1. **Select Customer**: Identify the customer involved.\\n  2. **Select Agreement**: Choose the relevant rental agreement.\\n  3. **Enter Stand-down Period**: Specify the dates for the stand-down period.\\n  4. **Manage Owner Agreements**: Handle any agreements related to the owner of the rental items.\\n\\n### Enter Involuntary Sales\\n- **Purpose**: To address situations where a customer damages a rental item, converting the rental agreement into a sale.\\n- **Process Steps**:\\n  1. **Select Customer**: Identify the customer.\\n  2. **Select Agreement**: Choose the relevant rental agreement.\\n  3. **Enter Involuntary Sale**: Record the sale of the damaged item.\\n  4. **Manage Owner Agreements**: Similar to the previous process, manage agreements related to the ownership of the item.\\n\\n### Key Notes\\n- The \"Enter Involuntary Sales\" process is similar to the \"Manage Stand-down Periods\" process, indicating a structured approach to handling different scenarios in rental agreements.\\n- The sales price for damaged items is determined by the rental coordinator, emphasizing the importance of proper valuation in these situations.\\n\\nOverall, the image provides a clear flow of actions for managing rental agreements under specific circumstances, ensuring that both customer and owner interests are addressed.', page_number=6)}\n",
      "Image content in document: {'source': '../../data/test_with_images.pdf', 'page_number': 9, 'file_name': 'test_with_images.pdf', 'image': PDF_Image(id=UUID('4c27384e-1db6-45b5-abab-2fc73de81de3'), content='The image appears to be a flowchart detailing the processes involved in reporting off-hire service and invoicing a rental agreement. Here’s a breakdown of the content:\\n\\n### Report Off-hire Service\\n- **Termination of Rental Agreement**: The rental agreement is terminated, and items are returned to warehouse 003.\\n- **Visual Inspection**: A rental coordinator conducts a visual inspection to ensure the equipment is complete and functional.\\n- **Invoicing**: Invoicing can occur before the inspection is completed.\\n- **Damage Handling**: If items are damaged, they can be quarantined, and an additional service (ADHOC FIELD SERVICE) can be initiated for repairs.\\n\\n### Invoice Rental Agreement\\n- **Sub-processes**:\\n  1. **Reconcile Deposit**: Ensuring that the deposit is accurately accounted for.\\n  2. **Process Invoice Proposal**: Preparing the invoice based on the rental agreement.\\n  3. **Create Invoice**: Finalizing the invoice for the customer.\\n  4. **Create Credit Note**: Issuing a credit note if there are disputes regarding the invoice.\\n\\n### Flowchart Elements\\n- **Decision Points**: Indicated by diamond shapes, where the process may branch based on customer selection or invoice disputes.\\n- **Process Steps**: Represented by rectangles, detailing actions taken in the workflow.\\n- **End Points**: Indicated by circles, showing the conclusion of processes.\\n\\nOverall, the image outlines a structured approach to managing rental agreements, including the return of equipment and the invoicing process, ensuring clarity and efficiency in operations.', page_number=9)}\n",
      "Image content in document: {'source': '../../data/test_with_images.pdf', 'page_number': 11, 'file_name': 'test_with_images.pdf', 'image': PDF_Image(id=UUID('ae5c2212-62db-4e3d-b379-11ce15c31a18'), content='The image appears to be a flowchart detailing the process for recording customer payments within an accounts receivable framework. Here’s a breakdown of the content:\\n\\n1. **Title**: \"Record Payment\" indicates the purpose of the flowchart.\\n2. **Reference**: It mentions the Financial Plan to Report processes and specific accounts receivable processes (DISXFL25 and DISXFL25.05) relevant to payment recording.\\n3. **Flowchart Steps**:\\n   - **Enter the payment details**: The initial step where payment information is input.\\n   - **Process the payment received**: This step involves handling the payment.\\n   - **Decision Point**: A diamond shape indicates a decision-making step, likely assessing whether the payment is accepted or rejected.\\n     - **If accepted**: The process continues to create a credit memo.\\n     - **If rejected**: The process leads to creating a rollback.\\n   - **Create a standard invoice**: This step follows the acceptance of the payment.\\n4. **Final Note**: There’s a reference to accounts receivable being developed to month-end, suggesting ongoing management of these records.\\n\\nOverall, the flowchart provides a structured approach to managing customer payments, ensuring clarity in the process from entry to final invoicing.', page_number=11)}\n",
      "Image content in document: {'source': '../../data/test_with_images.pdf', 'page_number': 5, 'file_name': 'test_with_images.pdf', 'image': PDF_Image(id=UUID('f9059f03-67ff-4ab2-a98d-609e02097f54'), content='The content of the image outlines a process for creating rental agreements and managing rental payments. Here’s a summary of the key points:\\n\\n1. **Create Rental Agreement**:\\n   - Three types of agreements can be created:\\n     - **Active Agreement (prefix A)**: The rental item is immediately marked as \"on-rent.\"\\n     - **Quotation Agreement (prefix Q)**: Requires customer approval and is not immediately active.\\n     - **Temporary Agreement (prefix T)**: Easier to modify and can be converted to an active agreement later.\\n\\n2. **Rental Payments**:\\n   - Payments for active agreements can be processed at the cash desk.\\n   - Deposits can be collected at the start of the agreement or controlled until invoicing.\\n   - Cash payments are validated and recorded at the end of the day, ensuring proper accounting.\\n\\n3. **Manage On-rent Agreements**:\\n   - This section includes sub-processes such as:\\n     - Managing stand-down periods.\\n     - Handling involuntary sales.\\n     - Mass-updating rental lines.\\n\\nOverall, the document provides a structured approach to managing rental agreements and payments, ensuring clarity and efficiency in the rental process.', page_number=5)}\n",
      "Image content in document: {'source': '../../data/test_with_images.pdf', 'page_number': 10, 'file_name': 'test_with_images.pdf', 'image': PDF_Image(id=UUID('3c3d9320-b6fa-45ac-abfb-2564c2825a4f'), content='The content of the image appears to be a section from a document related to the rental agreement and invoicing process. Here’s a summary of the key points:\\n\\n### Reconcile Deposit\\n- **Purpose of Deposits**: Used as security to ensure rented items are returned.\\n- **Process**: At the end of the rental, the deposit is reconciled with the actual rental cost.\\n  - If the deposit exceeds the rental cost, a credit is issued.\\n  - If the deposit is less than the rental cost, an invoice is generated for the difference.\\n  - If they are equal, no further action is needed.\\n\\n### Process Invoice Proposal\\n- **Four-Step Process**:\\n  1. Create an invoice proposal.\\n  2. Review the proposal.\\n  3. Approve the proposal (optional).\\n  4. Create the rental invoice based on the approved proposal.\\n\\n### Create Invoice\\n- **Final Step**: Involves creating the actual invoice, which can be based on an existing proposal.\\n\\n### Create Credit Note\\n- **Customer Requests**: Customers can contest invoices due to errors or discounts.\\n- **Options for Credit**:\\n  1. **Partial Credit**: Adjustments can be made, generating a credit note.\\n  2. **Full Credit**: The invoice is annulled, and the full amount is credited.\\n  3. **Credit and Re-invoice**: A new invoice is generated for the remaining balance.\\n\\n### Additional Notes\\n- Steps for creating credit can be streamlined in the rental counter system.\\n- Payment methods and their implications are briefly mentioned.\\n\\nThis document outlines the procedures for managing deposits, invoicing, and crediting in a rental context, ensuring clarity and traceability in financial transactions.', page_number=10)}\n"
     ]
    },
    {
     "data": {
      "text/plain": [
       "{'next_agent': 'get_pdf_content',\n",
       " 'pdfs': [PDF(id=UUID('bf66f5e4-9339-40aa-a2a0-cb9152706493'), documents=[Document(metadata={'source': '../../data/test_with_images.pdf', 'page_number': 1, 'file_name': 'test_with_images.pdf', 'image': PDF_Image(id=UUID('ff17550b-b4ad-48d3-a3b2-cd9528c8500e'), content=\"The document appears to be a guide or policy regarding the process of converting rental agreements into invoices for a distribution company. Here’s a summary of the key points:\\n\\n### Overview\\n- **Rental as Revenue**: Rental services provide additional revenue for distribution companies, catering to both existing customers and walk-in clients.\\n- **Daily Rates**: Charges are based on the number of days items are rented, typically at the customer's location.\\n\\n### Rental Agreement Types\\n- **Combination of Orders**: A rental agreement combines two types of distribution orders:\\n  - **Outbound Order**: Activated when the rental agreement is initiated (check-out).\\n  - **Inbound Order**: Initiated when the rental agreement is terminated (check-in).\\n\\n### Payment Methods\\n- **Direct Payment**: Customers can pay cash at the cash desk or use credit against a rental invoice.\\n- **Order Types**:\\n  - **CO1**: Cash payment for the rental deposit or entire invoice.\\n  - **CO2**: Credit against an invoice with standard payment terms.\\n\\n### Deposits and Returns\\n- **Deposits**: Collected to ensure the return of rental items, reconciled at the end of the rental period.\\n- **Simplified Checkout**: The process is streamlined for efficiency.\\n\\n### Additional Details\\n- **Serial Numbers**: Items may have serial numbers for tracking, but they are not mandatory.\\n- **Maintenance Agreements**: Active rental agreements are linked to maintenance agreements for equipment.\\n- **Involuntary Sales**: Items damaged beyond repair can be converted to a sale.\\n\\n### Conclusion\\nThe document outlines a structured approach to managing rental agreements, emphasizing payment methods, item tracking, and the importance of maintenance agreements. It aims to facilitate a smooth rental process for both the company and its customers.\", page_number=1)}, page_content='DISXRA Rental Agreement to Invoice.docx \\n \\nPage  1 \\n \\nRental Agreement to Invoice \\nRental is a supplementary revenue stream for distribution companies. Customers can be professionals with an \\nexisting customer number, or they can be walk-in customers. A daily rate will be charged for the number of days \\nthe items were at the customer’s site. The agreements tend to have a short validity period, often only a few days. \\nA rental agreement is a combination of two distribution orders: \\n \\n \\n \\nCustomers can either pay directly (cash) via the cash desk, or they can pay against a rental invoice (credit). Two \\nrental agreement order types are defined for that purpose: \\n• \\nCO1 – Cash via the cash desk: immediate payment of the rental deposit or the entire rental invoice as an \\nadvance invoice. The customer’s payment terms must be CSH (Cash), combined with payment method \\nCSD (Cash Desk). \\n• \\nCO2 – Credit against an invoice, applying the normal payment terms, such as 30 days end-of-month. \\n \\nDeposits can be used persuading the customer to return the rental items on time at the end of the rental \\nagreement. Upon return, the deposit is reconciliated against the advance payment at the beginning of the \\nagreement. \\nThe order to cash for rental process is simplified through a reduced scope: \\n• \\nThe rental store is existing warehouse 003, which is part of facility A03 in division AAA. \\n• \\nThe on-rent warehouse is R03, also part of facility A03. \\n• \\nThe Rental Counter is used to minimize the number of clicks within the end-to-end process. \\n• \\nRental rates are expressed in weekdays. Seven-day weeks are used. Days rented out invoiced. Metered \\nserial numbers will be invoiced for over usage hours, based on a meter-specific rental price list. \\n• \\nCharges can be added for rental lines. \\n• \\nDiscounts can be added to rental lines. \\n• \\nActive rental agreements will automatically generate a maintenance agreement with the same number. \\nThis maintenance agreement is automatically connected to the serial number and will facilitate the \\nprocess when the customers report equipment break downs. This is covered in the service process. \\n• \\nUp rent and down rent are possible in case the wanted rental item is not in stock. \\n• \\nThe checkout is simplified from the rental store 003. Once the rental contract is activated, the rental items \\ngo on-rent automatically. No extra clicks are required. For metered serial numbers, the checkout meter \\nvalue is recorded. \\n• \\nA rental item can have a serial number, but that is not required. Serial numbers can be subject to an off-\\nhire inspection. Serial numbers also have a replacement value defined. \\n• \\nConsumables (spare parts) can be sold via the rental agreement. These items do not return to the rental \\nstore 003. \\n• \\nA rental line can be converted into an involuntary sale when the rental item is damaged beyond repair. \\nThe principle is “you break it, you buy it”. \\n'), Document(metadata={'source': '../../data/test_with_images.pdf', 'page_number': 2, 'file_name': 'test_with_images.pdf', 'image': PDF_Image(id=UUID('7fc0e1ad-e3a8-4ebd-b271-dddb8028ed92'), content='The content of the image outlines a rental agreement process, detailing specific procedures and data related to rental contracts and facilities. Here’s a summary of the key points:\\n\\n1. **Rental Contract Management**:\\n   - Contracts can be paused (stand down) without payment during the pause.\\n   - Check-in processes are controlled via printouts, allowing for visual inspections of rental items.\\n   - An off-hire inspection is required for certain serialized items.\\n\\n2. **Facility Setup**:\\n   - A second rental depot is established in facility A04, with a parallel setup to facility A03.\\n   - Differences in program and facility data are listed for various purposes, such as on-hire warehouses, mobile warehouses, and cash desks.\\n\\n3. **Order to Cash Process**:\\n   - The process for rental agreements includes three main sub-processes:\\n     1. Creating a rental agreement.\\n     2. Managing on-rent agreements.\\n     3. Converting rental agreements to payment.\\n\\nThis document serves as a guide for managing rental agreements and the associated processes within the specified facilities.', page_number=2)}, page_content='DISXRA Rental Agreement to Invoice.docx \\n \\nPage  2 \\n \\n• \\nA rental contract can be paused (stand down) if needs be. During the stand down period, the customer is \\nnot paying the rental rate. \\n• \\nThe check-in into rental store 003 is controlled via the picking list printout. This enables the rental \\ncoordinator to visually inspect the returned rental items. For metered serial numbers, the check-in meter \\nvalue is recorded. \\n• \\nAn off-hire inspection is activated for selected serialized items. \\n• \\nOnce the rental agreement (line) is invoiced, the maintenance agreement with the same number is \\nautomatically deactivated and removed from the serial number. \\n \\nA second and parallel rental depot is setup in facility A04 with the rental yard being branch warehouse A10. This \\nlist outlines the differences: \\n \\nPurpose \\nProgram \\nFacility A03 Data \\nFacility A04 Data \\nFacility \\nCRS008 \\nA03 \\nA04 \\nWarehouse (rental yard) \\nMMS005 \\n003 \\nA10 \\nOn-hire warehouse \\nMMS005 \\nR03 \\nR10 \\nMobile warehouse \\nMMS005 \\nM01 \\nM10 \\nDepartment \\nCRS080 \\nA03REN \\nA04REN \\nWork center \\nPDS010 \\nA03CHECK \\nA04CHECK \\nCash desk \\nOIS210 \\nZRCD \\nA04RC \\nDefault locations \\nSTS595 \\n003 \\nR10 \\nRental depot \\nSTS030 \\n003 \\nR10 \\n \\nThe Rental Agreement to On-rent process starts from the steps to create a walk-in customer and identifying the \\nrequest and stop with processing the advance payment. The process includes the following sub-processes: \\n \\nThe order to cash process for rental includes the following sub processes: \\n1. Rental Agreement to On-Rent. \\n2. Manage On-Rent Agreements. \\n3. Terminate Rental Agreement to Payment. \\n \\n \\n'), Document(metadata={'source': '../../data/test_with_images.pdf', 'page_number': 3, 'file_name': 'test_with_images.pdf', 'image': PDF_Image(id=UUID('c223693e-9996-47e0-b6fa-d5f7af8b291f'), content='The image outlines a process flow for a \"Rental Agreement to On-rent\" system, detailing the steps involved in creating a rental agreement for walk-in customers. Here’s a breakdown of the content:\\n\\n### Key Components:\\n1. **Process Overview**:\\n   - The process begins with creating a walk-in customer and identifying their request, concluding with processing the advance payment.\\n\\n2. **Sub-processes**:\\n   - **Use Rental Counter**: Central to the process, allowing coordination of rental activities.\\n   - **Create Walk-in Customer**: Establishing customer details.\\n   - **Identity Request**: Verifying customer identity.\\n   - **Create Rental Agreement**: Formalizing the rental terms.\\n   - **Rental Payments**: Handling payment transactions.\\n\\n3. **Use Rental Counter**:\\n   - Describes the functionality of the Rental Counter, which consolidates various programs and screens into a single application for efficiency.\\n   - It is a web-mashup deployed in the Infor H5 client, enhancing user experience by integrating multiple functionalities.\\n\\n4. **Cloud Suite Distribution Enterprise**:\\n   - A simplified version of the rental process is mentioned, emphasizing customer self-service and direct interaction with the rental coordinator.\\n   - Integration with the Cash Desk is highlighted to streamline operations.\\n\\n### Visual Elements:\\n- The flowchart likely illustrates the sequence of steps and decision points in the rental process, enhancing clarity and understanding of the workflow.\\n\\n### Conclusion:\\nThe document serves as a guide for understanding the rental agreement process, emphasizing efficiency, customer service, and integration of various systems to facilitate smooth operations.', page_number=3)}, page_content='DISXRA Rental Agreement to Invoice.docx \\n \\nPage  3 \\n \\nRental Agreement to On-rent \\nThe Rental Agreement to On-rent process starts from the steps to create a walk-in customer and identifying the \\nrequest and stop with processing the advance payment. The process includes the following sub-processes: \\n• \\nUse Rental Counter \\n• \\nCreate Walk-in Customer \\n• \\nIdentify Request \\n• \\nCreate Rental Agreement \\n• \\nRental Payments \\n \\n \\nUse Rental Counter \\nThe Rental Counter enables the rental coordinator to run the entire end-to-end process from one single \\napplication. Information from different programs and different screens is gathered on one single application. The \\nRental Counter is a web-mashup, deployed in the Infor H5 client. It is supported by Infor Product Development, \\nand because of that, it must be considered an application rather than a mashup. You can still use “classic” \\nnavigation in Infor M3 to run the end-to-end process for rental, but then you use a range of different individual \\nprograms, which is normal practice in Infor M3. See the tips section for more information. \\n \\nFor Cloud Suite Distribution Enterprise, a light version of the rental process was added to the solution. The rental \\ncoordinator does everything over the counter, facing the customer directly. The limited complexity of the rental \\nitems allows the customer a high level of self-service. The rental coordinator needs to convert the customer’s \\nchoices into a rental agreement. Integration with the Cash Desk makes the processes smoother and lighter. \\n \\n \\n'), Document(metadata={'source': '../../data/test_with_images.pdf', 'page_number': 4, 'file_name': 'test_with_images.pdf', 'image': PDF_Image(id=UUID('fce63508-f283-4ed5-a2a6-8e3accc13eab'), content='The content of the image outlines a process for creating a walk-in customer rental agreement in a distribution context. Here’s a breakdown of the key points:\\n\\n### Create Walk-in Customer\\n- **Purpose**: Establish a rental agreement for walk-in customers, who may be unknown at the time of rental.\\n- **Requirements**: A minimum amount of customer information is necessary for traceability.\\n- **Process**: \\n  - A temporary customer is created using the Rental Counter system.\\n  - A category 8 temporary customer is registered in the system (Customer Open CRS610).\\n- **Regulation**: The process adheres to the EU General Data Protection Regulation (GDPR).\\n\\n### Identify Request\\n- **Customer Identification**: The process begins with identifying the walk-in customer who wants to rent items.\\n- **Key Information**: The customer’s location is crucial for determining who is renting and where the rental will be used.\\n- **Next Steps**:\\n  - Select the rental items.\\n  - The rental may have a serial number, but it is not mandatory.\\n  - If an item is out of stock, the Rental Counter will notify the rental coordinator.\\n- **Business Processes**: Standard processes like procure-to-pay are utilized to manage the rental items.\\n\\n### Visual Flow\\n- The image likely includes a flowchart illustrating the steps involved in enabling a rental customer, selecting a customer, choosing a location, and searching for equipment, culminating in the creation of a rental agreement.\\n\\nThis structured approach ensures that the rental process is efficient and compliant with regulations while providing a clear pathway for walk-in customers.', page_number=4)}, page_content='DISXRA Rental Agreement to Invoice.docx \\n \\nPage  4 \\n \\nCreate Walk-in Customer \\nRental is an additional revenue stream in the distribution industry. Most often, the customer is unknown when they \\nwalk up to the rental counter. A true walk-in customer, also known as a sundry customer. Yet, when renting out to \\nthe customer, a minimum of information must be known. Some form of traceability is necessary. A rental \\nagreement is a binding contract, after all. A temporary customer is perfect for that purpose. A new walk-in \\ncustomer can be created on the fly via the Rental Counter, prior to registering the rental agreement. A category 8 \\ntemporary customer is created in Customer. Open (CRS610). \\n \\nNormal European Union (EU) General Data Protection Regulation (GDPR) is valid for walk-in customers. \\n \\n \\n \\nIdentify Request \\nA known customer, or a walk-in customer wants to rent items from the warehouse (rental store). In the rental \\nprocess, the customer location address is a central key value. It determines who is renting and where exactly the \\nrental item is going to be used. \\n \\nOnce it established who will rent, the next part is to select the rental items. Rental can have a serial number, but \\nthat is not mandatory. When an item is not in stock, the Rental Counter will inform the rental coordinator about it. \\nSome items are consumables and can be sold, rather than rented. \\nThe normal end-to-end business processes, such as procure to pay, are used to bring rental items into rental \\nstore warehouse 003. \\n \\n \\n \\n \\n'), Document(metadata={'source': '../../data/test_with_images.pdf', 'page_number': 5, 'file_name': 'test_with_images.pdf', 'image': PDF_Image(id=UUID('f9059f03-67ff-4ab2-a98d-609e02097f54'), content='The content of the image outlines a process for creating rental agreements and managing rental payments. Here’s a summary of the key points:\\n\\n1. **Create Rental Agreement**:\\n   - Three types of agreements can be created:\\n     - **Active Agreement (prefix A)**: The rental item is immediately marked as \"on-rent.\"\\n     - **Quotation Agreement (prefix Q)**: Requires customer approval and is not immediately active.\\n     - **Temporary Agreement (prefix T)**: Easier to modify and can be converted to an active agreement later.\\n\\n2. **Rental Payments**:\\n   - Payments for active agreements can be processed at the cash desk.\\n   - Deposits can be collected at the start of the agreement or controlled until invoicing.\\n   - Cash payments are validated and recorded at the end of the day, ensuring proper accounting.\\n\\n3. **Manage On-rent Agreements**:\\n   - This section includes sub-processes such as:\\n     - Managing stand-down periods.\\n     - Handling involuntary sales.\\n     - Mass-updating rental lines.\\n\\nOverall, the document provides a structured approach to managing rental agreements and payments, ensuring clarity and efficiency in the rental process.', page_number=5)}, page_content='DISXRA Rental Agreement to Invoice.docx \\n \\nPage  5 \\n \\nCreate Rental Agreement \\nOnce the customer and the rental item (equipment) are selected, the agreement can be created. There are three \\nchoices: \\n1. \\nActive agreement (prefix A). The agreement goes “on-rent” immediately. That means the rental items \\n“leave” warehouse 003 onto the on-rent warehouse R03. For metered items, the check-out meter \\nreading is done. \\n2. \\nQuotation agreement (prefix Q). The quotation must be approved by the customer. This lies outside \\nof the scope. \\n3. \\nTemporary agreement (prefix T). This agreement must be converted into an active agreement. \\nBecause it is temporary, it is easier to change information such as sales or rental prices, add \\ndiscounts, add line charges, etc. It gives more control to the rental coordinator to meet the customer’s \\ndemands. \\n \\n \\nRental Payments \\nAn active (A) agreement can be paid for via the cash desk using rental agreement type CO1. It can be to collect a \\ndeposit amount at the beginning of the agreement and/or to control the payment when the agreement is finally \\ninvoiced. Deposits are only possible when the rental agreement type is enabled for it. If that is not the case, the \\ncash payment will take place when the rental agreement is terminated. The customer’s payment method will \\ndecide whether the cash desk is used or not. \\n \\nThe cash desk payments received via the Rental Counter and the Cash Desk are validated regularly, along with \\nany other cash payments received. Usually this is done at the end of the day, once the Cash Desk and the Rental \\nCounter processes are complete. When the cash desk is validated a new validation date is set, normally for the \\nnext working day and no more cash payments may be received in the Cash Desk. On validation, Accounts \\nReceivable and the General Ledger are updated. \\nManage On-rent Agreements \\nThe Manage On-rent Agreements process include tasks that can be performed when a unit is on rent. The \\nprocess includes the following sub-processes: \\n• \\nManage Stand-down Periods \\n• \\nEnter Involuntary Sales \\n• \\nMass-update Rental Lines \\n \\n \\n'), Document(metadata={'source': '../../data/test_with_images.pdf', 'page_number': 6, 'file_name': 'test_with_images.pdf', 'image': PDF_Image(id=UUID('79636fba-5aa6-49f9-b0d2-a9f9c8197bbc'), content='The content of the image outlines two processes related to rental agreements: \"Manage Stand-down Periods\" and \"Enter Involuntary Sales.\"\\n\\n### Manage Stand-down Periods\\n- **Purpose**: To define intervals during which a customer is not charged for on-rent items, typically due to public holidays.\\n- **Process Steps**:\\n  1. **Select Customer**: Identify the customer involved.\\n  2. **Select Agreement**: Choose the relevant rental agreement.\\n  3. **Enter Stand-down Period**: Specify the dates for the stand-down period.\\n  4. **Manage Owner Agreements**: Handle any agreements related to the owner of the rental items.\\n\\n### Enter Involuntary Sales\\n- **Purpose**: To address situations where a customer damages a rental item, converting the rental agreement into a sale.\\n- **Process Steps**:\\n  1. **Select Customer**: Identify the customer.\\n  2. **Select Agreement**: Choose the relevant rental agreement.\\n  3. **Enter Involuntary Sale**: Record the sale of the damaged item.\\n  4. **Manage Owner Agreements**: Similar to the previous process, manage agreements related to the ownership of the item.\\n\\n### Key Notes\\n- The \"Enter Involuntary Sales\" process is similar to the \"Manage Stand-down Periods\" process, indicating a structured approach to handling different scenarios in rental agreements.\\n- The sales price for damaged items is determined by the rental coordinator, emphasizing the importance of proper valuation in these situations.\\n\\nOverall, the image provides a clear flow of actions for managing rental agreements under specific circumstances, ensuring that both customer and owner interests are addressed.', page_number=6)}, page_content='DISXRA Rental Agreement to Invoice.docx \\n \\nPage  6 \\n \\nManage Stand-down Periods \\nThere are valid reasons why the customer should not be paying for the on-rent items. A classic example is a \\npublic (bank) holiday, such as Christmas day or New Year’s Day. \\n \\nOne or several intervals of dates can be defined for the rental agreement line where the agreement stands down. \\nDuring this interval, the customer is not invoiced. \\n \\n \\n \\nEnter Involuntary Sales \\nIt happens that the customer damages or breaks the rental item(s). The principle here is “you break it, you buy it”. \\nThe rental agreement line can be converted into a sales line, albeit involuntary on the customer’s perspective. \\nThat means that the customer owns the damaged rental item. There is no need any more to return it to the rental \\nwarehouse 003. \\n \\nThe sales price is determined by the rental coordinator. The replacement value for the rental item in question in \\nItem. Open Service Supplement (SOS001) is a good indication. The customer will pay for the rental days as well \\nas the (involuntary) sales price of the rental item. \\n \\nNote: The Enter Involuntary Sales process diagram is sililar to the Manage Stand-down Periods process. \\n \\n \\n \\n \\n'), Document(metadata={'source': '../../data/test_with_images.pdf', 'page_number': 7, 'file_name': 'test_with_images.pdf', 'image': PDF_Image(id=UUID('0a4ddf54-de4d-4b1f-95b9-f7681a696bbc'), content='The image outlines a flowchart related to rental agreements, detailing three main processes: mass-updating rental lines, exchanging rental items, and terminating rental agreements to payment. Here’s a breakdown of each section:\\n\\n1. **Mass-update Rental Lines**:\\n   - Customers can easily update rental lines based on their preferences.\\n   - The process begins with selecting a customer and checking if they have an agreement.\\n   - If confirmed, the agreement can be mass-updated, and the changes will apply to all rental lines.\\n\\n2. **Exchange Rental Line**:\\n   - This section addresses situations where a rental item breaks down.\\n   - The process involves selecting a customer and confirming their agreement.\\n   - If an exchange is necessary, the broken item is returned, and a replacement is provided immediately.\\n\\n3. **Terminate Rental Agreement to Payment**:\\n   - This process starts with terminating the rental agreement and includes invoicing and payment.\\n   - It consists of several sub-processes:\\n     - Terminating the rental agreement.\\n     - Reporting the return of goods.\\n     - Reporting off-hire services.\\n     - Invoicing the rental agreement.\\n\\nOverall, the flowchart provides a structured approach to managing rental agreements, ensuring customer needs are met efficiently.', page_number=7)}, page_content='DISXRA Rental Agreement to Invoice.docx \\n \\nPage  7 \\n \\nMass-update Rental Lines \\nCustomers can change their minds. It should be easy to mass update all rental lines based on the customer’s \\nwishes. The most common change is the validity period for the rental agreement lines. From the Rental Counter, \\nyou can mass change the complete rental agreement. The change(s) will be inherited by all rental lines. \\n \\n \\n \\nExchange Rental Line \\nIt happens that the rental item breaks down, with the customer not to be blamed. Replacing (exchanging) the \\nrental item is the solution. The broken/damaged rental item returns to the rental depot and the replacement rental \\nitem is going on-rent immediately, enabling the customer to carry on until the end of the rental agreement.  \\n \\n \\nTerminate Rental Agreement to Payment \\nThe Terminate Rental Agreement to Payment process starts with the termination of the rental agreement and \\nstops with the invoicing and payment. The process includes the following sub-processes: \\n• \\nTerminate Rental Agreement \\n• \\nReport Goods Return \\n• \\nReport Off-hire Service \\n• \\nInvoice Rental Agreement \\n \\n \\n \\n'), Document(metadata={'source': '../../data/test_with_images.pdf', 'page_number': 8, 'file_name': 'test_with_images.pdf', 'image': PDF_Image(id=UUID('5ae43001-d884-4925-b9de-c553c9180ed5'), content='The content of the image appears to be a page from a document related to a rental agreement process, specifically focusing on terminating a rental agreement and reporting the return of goods. Here’s a breakdown of the key points:\\n\\n### Terminate Rental Agreement\\n- **Conditions for Ending an Agreement**:\\n  - The customer returns rental items to a specified warehouse (warehouse 003).\\n  - The rental agreement reaches its end date.\\n\\n- **Options for Termination**:\\n  - You can terminate the entire rental agreement or individual rental lines.\\n  - Understanding the start and end dates of the contract is crucial for determining when to terminate.\\n\\n### Report Goods Return\\n- **Process After Termination**:\\n  - The rental coordinator must check in the returned rental items.\\n  - Check-in is equivalent to receiving items back into the warehouse.\\n\\n- **System Operations**:\\n  - Consumption meters (like fuel tanks) are not included in this process.\\n  - The system has specific configurations for handling inbound distribution orders and check-in processes.\\n\\n- **Steps for Release**:\\n  - Receive the rental items back into the warehouse.\\n  - Trigger a service request for the rental off-hire process, which will convert into a work order.\\n\\n### Additional Notes\\n- The document emphasizes the importance of following the correct procedures for both terminating agreements and processing returns to ensure smooth operations.\\n\\nThis summary encapsulates the main points and processes outlined in the image.', page_number=8)}, page_content='DISXRA Rental Agreement to Invoice.docx \\n \\nPage  8 \\n \\nTerminate Rental Agreement \\nAn active (A) agreement will end when: \\n• \\nThe customer returns the rental items to warehouse 003. This can be before the end of the rental \\nagreement end date. \\n• \\nThe rental agreement reaches its end date. The customer is expected to return the rental goods to \\nwarehouse 003 at the correct date. \\nYou can terminate either the complete rental agreement, including all its rental lines, or you can terminate \\nindividual rental lines separately. Off-hire and terminate rental agreement mean the same thing. Knowing the start \\nand the end date of the rental contract is good information to determine when to terminate the agreement. \\n \\n \\nReport Goods Return \\nThe rental agreement was terminated. The rental coordinator now has to check-in the rental items. Check-in is the \\nsame as receiving the rental items back into warehouse 003. When the rental item is metered, the check-in meter \\nwill be recorded. Consumption meters such as fuel tanks are out of scope. That said, the dispatch policy for the \\ninbound distribution order (R03=>003) is configured to stop this subprocess after automatic allocation (status 33). \\nIf not stopped, the system would automatically receive the distribution order (to status 99) and the rental \\ncoordinator has no control over the check-in process. \\n \\nRelease for picking for the inbound distribution order’s delivery number will: \\n• \\nReceive the rental items (both serialized and non-serialized) back in warehouse 003. See the result in \\nStock Transaction. Display History (MWS070). \\n• \\nTrigger the RENTAL OFF-HIRE service via a work order request. That request will automatically convert \\nitself into a work order. See more details on the RENTAL OFF-HIRE service, also known as the turn-\\naround service in the Report Off-Hire Service document. \\nThe rental lines can now be invoiced. \\n \\n \\n'), Document(metadata={'source': '../../data/test_with_images.pdf', 'page_number': 9, 'file_name': 'test_with_images.pdf', 'image': PDF_Image(id=UUID('4c27384e-1db6-45b5-abab-2fc73de81de3'), content='The image appears to be a flowchart detailing the processes involved in reporting off-hire service and invoicing a rental agreement. Here’s a breakdown of the content:\\n\\n### Report Off-hire Service\\n- **Termination of Rental Agreement**: The rental agreement is terminated, and items are returned to warehouse 003.\\n- **Visual Inspection**: A rental coordinator conducts a visual inspection to ensure the equipment is complete and functional.\\n- **Invoicing**: Invoicing can occur before the inspection is completed.\\n- **Damage Handling**: If items are damaged, they can be quarantined, and an additional service (ADHOC FIELD SERVICE) can be initiated for repairs.\\n\\n### Invoice Rental Agreement\\n- **Sub-processes**:\\n  1. **Reconcile Deposit**: Ensuring that the deposit is accurately accounted for.\\n  2. **Process Invoice Proposal**: Preparing the invoice based on the rental agreement.\\n  3. **Create Invoice**: Finalizing the invoice for the customer.\\n  4. **Create Credit Note**: Issuing a credit note if there are disputes regarding the invoice.\\n\\n### Flowchart Elements\\n- **Decision Points**: Indicated by diamond shapes, where the process may branch based on customer selection or invoice disputes.\\n- **Process Steps**: Represented by rectangles, detailing actions taken in the workflow.\\n- **End Points**: Indicated by circles, showing the conclusion of processes.\\n\\nOverall, the image outlines a structured approach to managing rental agreements, including the return of equipment and the invoicing process, ensuring clarity and efficiency in operations.', page_number=9)}, page_content='DISXRA Rental Agreement to Invoice.docx \\n \\nPage  9 \\n \\nReport Off-hire Service \\nThe rental agreement was terminated, and the rental items have been received back into warehouse 003. A \\nvisual inspection is done by the rental coordinator, making sure that the received rental equipment is complete, \\nclean and in working order. The invoicing of the rental agreement can take place before this off-hire inspection is \\ndone. The RENTAL OFF-HIRE service is defined with just one operation line: visually checking the rental item. In \\ncase the rental item is damaged, it can be quarantined.  \\nDescribed in the service process, a separate ADHOC FIELD SERVICE can be created to repair the damage and \\nif needs be, invoice the customer for the used time and material. The repair will also take the rental out of \\nquarantine and back into the rental fleet.  \\n \\n \\nInvoice Rental Agreement \\nThe process includes the following sub-processes: \\n• \\nReconcile Deposit \\n• \\nProcess Invoice Proposal \\n• \\nCreate Invoice \\n• \\nCreate Credit Note \\n \\n'), Document(metadata={'source': '../../data/test_with_images.pdf', 'page_number': 10, 'file_name': 'test_with_images.pdf', 'image': PDF_Image(id=UUID('3c3d9320-b6fa-45ac-abfb-2564c2825a4f'), content='The content of the image appears to be a section from a document related to the rental agreement and invoicing process. Here’s a summary of the key points:\\n\\n### Reconcile Deposit\\n- **Purpose of Deposits**: Used as security to ensure rented items are returned.\\n- **Process**: At the end of the rental, the deposit is reconciled with the actual rental cost.\\n  - If the deposit exceeds the rental cost, a credit is issued.\\n  - If the deposit is less than the rental cost, an invoice is generated for the difference.\\n  - If they are equal, no further action is needed.\\n\\n### Process Invoice Proposal\\n- **Four-Step Process**:\\n  1. Create an invoice proposal.\\n  2. Review the proposal.\\n  3. Approve the proposal (optional).\\n  4. Create the rental invoice based on the approved proposal.\\n\\n### Create Invoice\\n- **Final Step**: Involves creating the actual invoice, which can be based on an existing proposal.\\n\\n### Create Credit Note\\n- **Customer Requests**: Customers can contest invoices due to errors or discounts.\\n- **Options for Credit**:\\n  1. **Partial Credit**: Adjustments can be made, generating a credit note.\\n  2. **Full Credit**: The invoice is annulled, and the full amount is credited.\\n  3. **Credit and Re-invoice**: A new invoice is generated for the remaining balance.\\n\\n### Additional Notes\\n- Steps for creating credit can be streamlined in the rental counter system.\\n- Payment methods and their implications are briefly mentioned.\\n\\nThis document outlines the procedures for managing deposits, invoicing, and crediting in a rental context, ensuring clarity and traceability in financial transactions.', page_number=10)}, page_content='DISXRA Rental Agreement to Invoice.docx \\n \\nPage  10 \\n \\nReconcile Deposit \\nDeposits are used as a security. It will ensure that the rented items are returned. A deposit was paid by the \\ncustomer when the rental agreement with rental order type CO1 was activated. The cash desk was used to collect \\nthis deposit. \\nAt the end of the rental agreement, the customer returns the rental items to the warehouse. Now is the time to \\ncompare the deposit paid with the actual rental cost. You reconcile the deposit. \\n• \\nWhen the deposit exceeds the actual rental cost, a credit note will be generated to pay this amount back to \\nthe customer. This can happen when the customer returns the rental items early. \\n• \\nWhen the deposit does not cover the actual rental cost, an invoice will be generated to bill the customer \\nthis extra charge. Happens when the customer returns the rental items too late. \\nWhen the deposit and the actual rental cost is equal, nothing will be invoiced. Happens when the customer \\nreturns the rental goods on-time. \\n \\nProcess Invoice Proposal \\nInvoicing a rental agreement is a four-step process: \\n1. Create an invoice proposal. \\n2. Review the created invoice proposal. \\n3. Approve the created invoice proposal (optional). \\n4. Create the rental invoice based on the approved invoice proposal. This is optional in this document. Refer \\nto the Create Invoice document. \\nThe first three steps cover the invoice proposal. Optional instructions are added to continue all the way to a rental \\ninvoice, but it is advised to not go beyond the invoice proposal stage. \\n \\nCreate Invoice \\nThis represents the last step in the invoicing process. An invoice proposal can already exist, but that is not \\nmandatory. The four steps covered in the invoice proposal can be condensed into one single step by click the \\nPayment icon in the Rental Counter. When the customer has payment method CSD, the cash desk will be \\npresented showing the grand total of all rental lines and consumable/spare parts sales lines. \\n \\nCreate Credit Note \\nA customer can contest a rental invoice. Most commonly due to incorrect pricing or forgotten discounts. There are \\nthree options to overcome this problem. Each of these three options will have a connection back to the original \\nrental invoice number to maximize traceability. \\n1. Partial credit – Changes can be made, and the credit note is generated. The total credited amount cannot \\nexceed the original invoice amount. \\n2. Full credit – Changes cannot be made, and the full amount is credited. The invoice is annulled. \\n3. Credit and re-invoice – Like option 2, but the system will re-invoice the net difference through a new \\ninvoice number. This option is not valid for rental agreement with collected deposit amounts. \\nJust like rental invoicing, rental crediting has different steps: \\n1. Create a credit proposal, choosing one of the 3 options described here above. \\n2. Amend the amounts, but only for partial credit (option 1) and credit/re-invoice (option 3). \\n3. Approve the amended credit proposal. \\n4. Create the credit note. \\nNote: Steps 3 and 4 can be compressed to one click in the Rental Counter: click the Payment icon. When the \\npayment method is cash (CSD), it is possible to pass via the cash desk in Cash Payment. Open (OIS215). The \\namounts will be negative. \\n \\n \\n'), Document(metadata={'source': '../../data/test_with_images.pdf', 'page_number': 11, 'file_name': 'test_with_images.pdf', 'image': PDF_Image(id=UUID('ae5c2212-62db-4e3d-b379-11ce15c31a18'), content='The image appears to be a flowchart detailing the process for recording customer payments within an accounts receivable framework. Here’s a breakdown of the content:\\n\\n1. **Title**: \"Record Payment\" indicates the purpose of the flowchart.\\n2. **Reference**: It mentions the Financial Plan to Report processes and specific accounts receivable processes (DISXFL25 and DISXFL25.05) relevant to payment recording.\\n3. **Flowchart Steps**:\\n   - **Enter the payment details**: The initial step where payment information is input.\\n   - **Process the payment received**: This step involves handling the payment.\\n   - **Decision Point**: A diamond shape indicates a decision-making step, likely assessing whether the payment is accepted or rejected.\\n     - **If accepted**: The process continues to create a credit memo.\\n     - **If rejected**: The process leads to creating a rollback.\\n   - **Create a standard invoice**: This step follows the acceptance of the payment.\\n4. **Final Note**: There’s a reference to accounts receivable being developed to month-end, suggesting ongoing management of these records.\\n\\nOverall, the flowchart provides a structured approach to managing customer payments, ensuring clarity in the process from entry to final invoicing.', page_number=11)}, page_content='DISXRA Rental Agreement to Invoice.docx \\n \\nPage  11 \\n \\nRecord Payment \\nWe refer to the Financial Plan to Report processes and, the Accounts Receivable – Customer \\nPayments process (DISXFI.25 and DISXFI.25.05), for the recording of the payment. \\n \\n \\n \\n \\n')], images=[])],\n",
       " 'error_message': '',\n",
       " 'data_path': '../../data',\n",
       " 'files': ['UNVXIS.05 Enable Internal Sales Orders.pdf',\n",
       "  'test_with_images.pdf'],\n",
       " 'chosen_files': ['test_with_images.pdf'],\n",
       " 'requirements': ['I want to retrieve the test with images?'],\n",
       " 'image_content': []}"
      ]
     },
     "execution_count": 330,
     "metadata": {},
     "output_type": "execute_result"
    }
   ],
   "source": [
    "query = \"I want to retrieve the test with images?\"\n",
    "#query=\"\"\n",
    "\n",
    "requirements = [query] \n",
    "\n",
    "await run_client(requirements=requirements)"
   ]
  },
  {
   "cell_type": "code",
   "execution_count": 331,
   "metadata": {},
   "outputs": [
    {
     "data": {
      "text/plain": [
       "[]"
      ]
     },
     "execution_count": 331,
     "metadata": {},
     "output_type": "execute_result"
    }
   ],
   "source": [
    "state_values = graph.get_state(config=config).values\n",
    "pdfs = state_values[\"pdfs\"]\n",
    "\n",
    "image_content = []\n",
    "for image in pdfs[0].images:\n",
    "    image_content.append(image.content)\n",
    "\n",
    "image_content"
   ]
  },
  {
   "cell_type": "code",
   "execution_count": 332,
   "metadata": {},
   "outputs": [
    {
     "data": {
      "text/plain": [
       "{'id': UUID('ff17550b-b4ad-48d3-a3b2-cd9528c8500e'),\n",
       " 'content': \"The document appears to be a guide or policy regarding the process of converting rental agreements into invoices for a distribution company. Here’s a summary of the key points:\\n\\n### Overview\\n- **Rental as Revenue**: Rental services provide additional revenue for distribution companies, catering to both existing customers and walk-in clients.\\n- **Daily Rates**: Charges are based on the number of days items are rented, typically at the customer's location.\\n\\n### Rental Agreement Types\\n- **Combination of Orders**: A rental agreement combines two types of distribution orders:\\n  - **Outbound Order**: Activated when the rental agreement is initiated (check-out).\\n  - **Inbound Order**: Initiated when the rental agreement is terminated (check-in).\\n\\n### Payment Methods\\n- **Direct Payment**: Customers can pay cash at the cash desk or use credit against a rental invoice.\\n- **Order Types**:\\n  - **CO1**: Cash payment for the rental deposit or entire invoice.\\n  - **CO2**: Credit against an invoice with standard payment terms.\\n\\n### Deposits and Returns\\n- **Deposits**: Collected to ensure the return of rental items, reconciled at the end of the rental period.\\n- **Simplified Checkout**: The process is streamlined for efficiency.\\n\\n### Additional Details\\n- **Serial Numbers**: Items may have serial numbers for tracking, but they are not mandatory.\\n- **Maintenance Agreements**: Active rental agreements are linked to maintenance agreements for equipment.\\n- **Involuntary Sales**: Items damaged beyond repair can be converted to a sale.\\n\\n### Conclusion\\nThe document outlines a structured approach to managing rental agreements, emphasizing payment methods, item tracking, and the importance of maintenance agreements. It aims to facilitate a smooth rental process for both the company and its customers.\",\n",
       " 'page_number': 1}"
      ]
     },
     "execution_count": 332,
     "metadata": {},
     "output_type": "execute_result"
    }
   ],
   "source": [
    "pdfs[0].documents[0].metadata[\"image\"]"
   ]
  }
 ],
 "metadata": {
  "kernelspec": {
   "display_name": ".myvenv",
   "language": "python",
   "name": "python3"
  },
  "language_info": {
   "codemirror_mode": {
    "name": "ipython",
    "version": 3
   },
   "file_extension": ".py",
   "mimetype": "text/x-python",
   "name": "python",
   "nbconvert_exporter": "python",
   "pygments_lexer": "ipython3",
   "version": "3.11.11"
  }
 },
 "nbformat": 4,
 "nbformat_minor": 2
}

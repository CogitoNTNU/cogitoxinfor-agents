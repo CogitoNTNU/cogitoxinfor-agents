{
 "cells": [
  {
   "cell_type": "code",
   "execution_count": 2,
   "metadata": {},
   "outputs": [
    {
     "name": "stdout",
     "output_type": "stream",
     "text": [
      "Browser is open with persistent profile. Press Enter to close...\n"
     ]
    }
   ],
   "source": [
    "from playwright.async_api import async_playwright\n",
    "import os\n",
    "import asyncio\n",
    "\n",
    "# Create a persistent directory for the user data\n",
    "user_data_dir = os.path.join(os.path.expanduser(\"~\"), \"playwright_user_data\")\n",
    "os.makedirs(user_data_dir, exist_ok=True)\n",
    "\n",
    "# Launch browser with persistent user data directory\n",
    "playwright = await async_playwright().start()\n",
    "# Create a persistent context (even more reliable for state persistence)\n",
    "# Alternative: Create browser with persistent context directly\n",
    "context = await playwright.chromium.launch_persistent_context(\n",
    "    user_data_dir=user_data_dir,\n",
    "    headless=False,\n",
    "    args=['--no-sandbox', '--disable-blink-features=AutomationControlled']\n",
    ")\n",
    "\n",
    "# Get the default page or create a new one\n",
    "page = context.pages[0]\n",
    "\n",
    "# Navigate to Google\n",
    "await page.goto(\"https://www.google.com\")\n",
    "\n",
    "# Wait for input to keep the browser open\n",
    "print(\"Browser is open with persistent profile. Press Enter to close...\")"
   ]
  },
  {
   "cell_type": "code",
   "execution_count": null,
   "metadata": {},
   "outputs": [],
   "source": [
    "playwright = await async_playwright().start()\n",
    "browser = await playwright.chromium.launch(\n",
    "    executable_path=\"/mnt/c/Program Files/Google/Chrome/Application/chrome.exe\",\n",
    "    headless=False,\n",
    "    args=['--no-sandbox', '--disable-blink-features=AutomationControlled'],\n",
    ")\n",
    "\n",
    "# Open a new page\n",
    "page = await browser.new_page()\n",
    "\n",
    "# Navigate to Google\n",
    "await page.goto(\"https://www.google.com\")\n",
    "try:\n",
    "    await page.wait_for_selector(\"text=Godta alle\", timeout=5000)\n",
    "    await page.click(\"text=Godta alle\")\n",
    "except:\n",
    "    print(\"Cookie consent dialog not found or has a different text\")"
   ]
  }
 ],
 "metadata": {
  "kernelspec": {
   "display_name": ".myvenv",
   "language": "python",
   "name": "python3"
  },
  "language_info": {
   "codemirror_mode": {
    "name": "ipython",
    "version": 3
   },
   "file_extension": ".py",
   "mimetype": "text/x-python",
   "name": "python",
   "nbconvert_exporter": "python",
   "pygments_lexer": "ipython3",
   "version": "3.11.11"
  }
 },
 "nbformat": 4,
 "nbformat_minor": 2
}

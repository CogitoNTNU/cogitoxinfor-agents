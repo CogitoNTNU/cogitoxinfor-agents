{
 "cells": [
  {
   "cell_type": "code",
   "execution_count": 1,
   "metadata": {},
   "outputs": [
    {
     "name": "stdout",
     "output_type": "stream",
     "text": [
      "INFO     [browser_use] BrowserUse logging setup complete with level info\n",
      "INFO     [root] Anonymized telemetry enabled. See https://github.com/gregpr07/browser-use for more information.\n"
     ]
    },
    {
     "data": {
      "text/plain": [
       "True"
      ]
     },
     "execution_count": 1,
     "metadata": {},
     "output_type": "execute_result"
    }
   ],
   "source": [
    "from langchain_openai import ChatOpenAI\n",
    "from browser_use import Agent\n",
    "import asyncio\n",
    "from dotenv import load_dotenv\n",
    "load_dotenv()\n",
    "\n"
   ]
  },
  {
   "cell_type": "code",
   "execution_count": 3,
   "metadata": {},
   "outputs": [
    {
     "name": "stdout",
     "output_type": "stream",
     "text": [
      "INFO     [agent] 🚀 Starting task: Go to Reddit, search for 'league of legens' in the search bar. Search for the best samira runes for this season. Find out what season we are in first.\n",
      "INFO     [agent] \n",
      "📍 Step 1\n",
      "INFO     [agent] 🤷 Eval: Unknown - Initial state with no actions taken.\n",
      "INFO     [agent] 🧠 Memory: Need to search for current League of Legends season and then Samira runes on Reddit.\n",
      "INFO     [agent] 🎯 Next goal: Open Reddit in a new tab.\n",
      "INFO     [agent] 🛠️  Action 1/1: {\"open_tab\":{\"url\":\"https://www.reddit.com\"}}\n",
      "INFO     [controller] 🔗  Opened new tab with https://www.reddit.com\n",
      "INFO     [agent] \n",
      "📍 Step 2\n",
      "INFO     [agent] 👍 Eval: Success - Reddit page is open and ready for interaction.\n",
      "INFO     [agent] 🧠 Memory: Need to accept cookies, search for current League of Legends season, then find Samira runes.\n",
      "INFO     [agent] 🎯 Next goal: Accept cookies on Reddit and search for 'current League of Legends season'.\n",
      "INFO     [agent] 🛠️  Action 1/3: {\"click_element\":{\"index\":0}}\n",
      "INFO     [agent] 🛠️  Action 2/3: {\"input_text\":{\"index\":4,\"text\":\"current League of Legends season\"}}\n",
      "INFO     [agent] 🛠️  Action 3/3: {\"send_keys\":{\"keys\":\"Enter\"}}\n",
      "INFO     [controller] 🖱️  Clicked index 0\n",
      "ERROR    [agent] ❌ Result failed 1/3 times:\n",
      " Error executing action input_text: Failed to input text into element: <a rpl=\"\" class=\"px-sm hover:no-underline\n",
      "button-medium px-[var(--rem14)]\n",
      "button-brand\n",
      "\n",
      "\n",
      "\n",
      "items-center justify-center\n",
      "button inline-flex \" href=\"https://www.reddit.com/login/\" id=\"login-button\" slot=\"trigger\"> [interactive, top, highlight:4]. Error: ElementHandle.fill: Error: Element is not an <input>, <textarea> or [contenteditable] element\n",
      "Call log:\n",
      "    - fill(\"\")\n",
      "  -   - attempting fill action\n",
      "  -     - waiting for element to be visible, enabled and editable\n",
      "\n",
      "INFO     [agent] \n",
      "📍 Step 3\n",
      "INFO     [agent] ⚠ Eval: Failed - Attempted to search in a non-interactive element.\n",
      "INFO     [agent] 🧠 Memory: Need to search for current League of Legends season and then Samira runes.\n",
      "INFO     [agent] 🎯 Next goal: Use the search input on Reddit to search for 'current League of Legends season'.\n",
      "INFO     [agent] 🛠️  Action 1/2: {\"input_text\":{\"index\":2,\"text\":\"current League of Legends season\"}}\n",
      "INFO     [agent] 🛠️  Action 2/2: {\"send_keys\":{\"keys\":\"Enter\"}}\n",
      "INFO     [controller] ⌨️  Input \"current League of Legends season\" into index 2\n",
      "INFO     [controller] ⌨️  Sent keys: Enter\n",
      "INFO     [agent] \n",
      "📍 Step 4\n",
      "INFO     [agent] 👍 Eval: Success - Search for current League of Legends season executed.\n",
      "INFO     [agent] 🧠 Memory: Need to find out what the current League of Legends season is and then search for Samira runes.\n",
      "INFO     [agent] 🎯 Next goal: Identify the current League of Legends season from the search results.\n",
      "INFO     [agent] 🛠️  Action 1/1: {\"click_element\":{\"index\":24}}\n",
      "ERROR    [browser] Failed to locate element: Page.query_selector: Target page, context or browser has been closed\n",
      "WARNING  [controller] Element no longer available with index 24 - most likely the page changed\n",
      "INFO     [agent] \n",
      "📍 Step 5\n",
      "INFO     [agent] \n",
      "📍 Step 5\n",
      "ERROR    [agent] ❌ Result failed 1/3 times:\n",
      " Browser closed: no valid pages available\n",
      "INFO     [agent] \n",
      "📍 Step 5\n",
      "ERROR    [agent] ❌ Result failed 2/3 times:\n",
      " Browser closed: no valid pages available\n",
      "INFO     [agent] \n",
      "📍 Step 5\n",
      "ERROR    [agent] ❌ Result failed 3/3 times:\n",
      " Browser closed: no valid pages available\n",
      "ERROR    [agent] ❌ Stopping due to 3 consecutive failures\n",
      "INFO     [agent] Created GIF at agent_history.gif\n",
      "AgentHistoryList(all_results=[ActionResult(is_done=False, extracted_content='🔗  Opened new tab with https://www.reddit.com', error=None, include_in_memory=True), ActionResult(is_done=False, extracted_content=None, error='Error executing action input_text: Failed to input text into element: <a rpl=\"\" class=\"px-sm hover:no-underline\\nbutton-medium px-[var(--rem14)]\\nbutton-brand\\n\\n\\n\\nitems-center justify-center\\nbutton inline-flex \" href=\"https://www.reddit.com/login/\" id=\"login-button\" slot=\"trigger\"> [interactive, top, highlight:4]. Error: ElementHandle.fill: Error: Element is not an <input>, <textarea> or [contenteditable] element\\nCall log:\\n    - fill(\"\")\\n  -   - attempting fill action\\n  -     - waiting for element to be visible, enabled and editable\\n', include_in_memory=True), ActionResult(is_done=False, extracted_content='⌨️  Input \"current League of Legends season\" into index 2', error=None, include_in_memory=True), ActionResult(is_done=False, extracted_content='⌨️  Sent keys: Enter', error=None, include_in_memory=True), ActionResult(is_done=False, extracted_content=None, error='Failed to click element: <button rpl=\"\" aria-label=\"Give award, 5 awards given\" class=\"button border-md overflow-visible flex flex-row justify-center items-center h-xl font-semibold relative text-12 button-secondary  inline-flex items-center\\n       px-sm\\n      \" style=\"height: var(--size-button-sm-h); font: var(--font-button-sm)\" type=\"button\" browser-user-highlight-id=\"playwright-highlight-21\"> [interactive, top, highlight:24]. Error: Element: <button rpl=\"\" aria-label=\"Give award, 5 awards given\" class=\"button border-md overflow-visible flex flex-row justify-center items-center h-xl font-semibold relative text-12 button-secondary  inline-flex items-center\\n       px-sm\\n      \" style=\"height: var(--size-button-sm-h); font: var(--font-button-sm)\" type=\"button\" browser-user-highlight-id=\"playwright-highlight-21\"> [interactive, top, highlight:24] not found', include_in_memory=False)], all_model_outputs=[{'open_tab': {'url': 'https://www.reddit.com'}}, {'click_element': {'index': 0}}, {'input_text': {'index': 4, 'text': 'current League of Legends season'}}, {'send_keys': {'keys': 'Enter'}}, {'input_text': {'index': 2, 'text': 'current League of Legends season'}}, {'send_keys': {'keys': 'Enter'}}, {'click_element': {'index': 24}}])\n"
     ]
    },
    {
     "ename": "RuntimeError",
     "evalue": "asyncio.run() cannot be called from a running event loop",
     "output_type": "error",
     "traceback": [
      "\u001b[0;31m---------------------------------------------------------------------------\u001b[0m",
      "\u001b[0;31mRuntimeError\u001b[0m                              Traceback (most recent call last)",
      "Cell \u001b[0;32mIn[3], line 9\u001b[0m\n\u001b[1;32m      6\u001b[0m     result \u001b[38;5;241m=\u001b[39m \u001b[38;5;28;01mawait\u001b[39;00m agent\u001b[38;5;241m.\u001b[39mrun()\n\u001b[1;32m      7\u001b[0m     \u001b[38;5;28mprint\u001b[39m(result)\n\u001b[0;32m----> 9\u001b[0m \u001b[43masyncio\u001b[49m\u001b[38;5;241;43m.\u001b[39;49m\u001b[43mrun\u001b[49m\u001b[43m(\u001b[49m\u001b[38;5;28;43;01mawait\u001b[39;49;00m\u001b[43m \u001b[49m\u001b[43mmain\u001b[49m\u001b[43m(\u001b[49m\u001b[43m)\u001b[49m\u001b[43m)\u001b[49m\n",
      "File \u001b[0;32m/opt/homebrew/Cellar/python@3.13/3.13.1/Frameworks/Python.framework/Versions/3.13/lib/python3.13/asyncio/runners.py:190\u001b[0m, in \u001b[0;36mrun\u001b[0;34m(main, debug, loop_factory)\u001b[0m\n\u001b[1;32m    161\u001b[0m \u001b[38;5;250m\u001b[39m\u001b[38;5;124;03m\"\"\"Execute the coroutine and return the result.\u001b[39;00m\n\u001b[1;32m    162\u001b[0m \n\u001b[1;32m    163\u001b[0m \u001b[38;5;124;03mThis function runs the passed coroutine, taking care of\u001b[39;00m\n\u001b[0;32m   (...)\u001b[0m\n\u001b[1;32m    186\u001b[0m \u001b[38;5;124;03m    asyncio.run(main())\u001b[39;00m\n\u001b[1;32m    187\u001b[0m \u001b[38;5;124;03m\"\"\"\u001b[39;00m\n\u001b[1;32m    188\u001b[0m \u001b[38;5;28;01mif\u001b[39;00m events\u001b[38;5;241m.\u001b[39m_get_running_loop() \u001b[38;5;129;01mis\u001b[39;00m \u001b[38;5;129;01mnot\u001b[39;00m \u001b[38;5;28;01mNone\u001b[39;00m:\n\u001b[1;32m    189\u001b[0m     \u001b[38;5;66;03m# fail fast with short traceback\u001b[39;00m\n\u001b[0;32m--> 190\u001b[0m     \u001b[38;5;28;01mraise\u001b[39;00m \u001b[38;5;167;01mRuntimeError\u001b[39;00m(\n\u001b[1;32m    191\u001b[0m         \u001b[38;5;124m\"\u001b[39m\u001b[38;5;124masyncio.run() cannot be called from a running event loop\u001b[39m\u001b[38;5;124m\"\u001b[39m)\n\u001b[1;32m    193\u001b[0m \u001b[38;5;28;01mwith\u001b[39;00m Runner(debug\u001b[38;5;241m=\u001b[39mdebug, loop_factory\u001b[38;5;241m=\u001b[39mloop_factory) \u001b[38;5;28;01mas\u001b[39;00m runner:\n\u001b[1;32m    194\u001b[0m     \u001b[38;5;28;01mreturn\u001b[39;00m runner\u001b[38;5;241m.\u001b[39mrun(main)\n",
      "\u001b[0;31mRuntimeError\u001b[0m: asyncio.run() cannot be called from a running event loop"
     ]
    }
   ],
   "source": [
    "async def main():\n",
    "    agent = Agent(\n",
    "        task=\"Go to Reddit, search for 'league of legens' in the search bar. Search for the best samira runes for this season. Find out what season we are in first.\",\n",
    "        llm=ChatOpenAI(model=\"gpt-4o\"),\n",
    "    )\n",
    "    result = await agent.run()\n",
    "    print(result)\n",
    "\n",
    "asyncio.run(await main())\n"
   ]
  },
  {
   "cell_type": "markdown",
   "metadata": {},
   "source": [
    "# Lag din egen prompt"
   ]
  },
  {
   "cell_type": "code",
   "execution_count": null,
   "metadata": {},
   "outputs": [],
   "source": [
    "async def main():\n",
    "    agent = Agent(\n",
    "        task=\"TODO\",\n",
    "        llm=ChatOpenAI(model=\"gpt-4o\"),\n",
    "    )\n",
    "    result = await agent.run()\n",
    "    print(result)\n",
    "\n",
    "asyncio.run(await main())"
   ]
  }
 ],
 "metadata": {
  "kernelspec": {
   "display_name": "venv",
   "language": "python",
   "name": "python3"
  },
  "language_info": {
   "codemirror_mode": {
    "name": "ipython",
    "version": 3
   },
   "file_extension": ".py",
   "mimetype": "text/x-python",
   "name": "python",
   "nbconvert_exporter": "python",
   "pygments_lexer": "ipython3",
   "version": "3.13.1"
  }
 },
 "nbformat": 4,
 "nbformat_minor": 2
}
